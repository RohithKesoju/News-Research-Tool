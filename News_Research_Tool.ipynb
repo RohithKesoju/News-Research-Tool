{
  "cells": [
    {
      "cell_type": "markdown",
      "source": [
        "\n",
        "\n",
        "#This tool sets up a text retrieval and question-answering system using Streamlit, LangChain, and OpenAI APIs, leveraging embeddings and FAISS indexing for efficient searches.\n",
        "\n",
        "This is a basic learing tool for the retrival of info on a given Query, was aiming for embedding with OpenAIEmbeddings() and vector indexing with vectorindex_openai but could'nt"
      ],
      "metadata": {
        "id": "ORRl8PDbcK6X"
      },
      "id": "ORRl8PDbcK6X"
    },
    {
      "cell_type": "code",
      "source": [
        "!pip install streamlit"
      ],
      "metadata": {
        "colab": {
          "base_uri": "https://localhost:8080/"
        },
        "id": "-AvWGkvpFKkG",
        "outputId": "071996e4-9321-4879-8bab-e349147dc187"
      },
      "id": "-AvWGkvpFKkG",
      "execution_count": null,
      "outputs": [
        {
          "output_type": "stream",
          "name": "stdout",
          "text": [
            "Collecting streamlit\n",
            "  Downloading streamlit-1.36.0-py2.py3-none-any.whl (8.6 MB)\n",
            "\u001b[2K     \u001b[90m━━━━━━━━━━━━━━━━━━━━━━━━━━━━━━━━━━━━━━━━\u001b[0m \u001b[32m8.6/8.6 MB\u001b[0m \u001b[31m21.1 MB/s\u001b[0m eta \u001b[36m0:00:00\u001b[0m\n",
            "\u001b[?25hRequirement already satisfied: altair<6,>=4.0 in /usr/local/lib/python3.10/dist-packages (from streamlit) (4.2.2)\n",
            "Requirement already satisfied: blinker<2,>=1.0.0 in /usr/lib/python3/dist-packages (from streamlit) (1.4)\n",
            "Requirement already satisfied: cachetools<6,>=4.0 in /usr/local/lib/python3.10/dist-packages (from streamlit) (5.3.3)\n",
            "Requirement already satisfied: click<9,>=7.0 in /usr/local/lib/python3.10/dist-packages (from streamlit) (8.1.7)\n",
            "Requirement already satisfied: numpy<3,>=1.20 in /usr/local/lib/python3.10/dist-packages (from streamlit) (1.25.2)\n",
            "Requirement already satisfied: packaging<25,>=20 in /usr/local/lib/python3.10/dist-packages (from streamlit) (24.1)\n",
            "Requirement already satisfied: pandas<3,>=1.3.0 in /usr/local/lib/python3.10/dist-packages (from streamlit) (2.0.3)\n",
            "Requirement already satisfied: pillow<11,>=7.1.0 in /usr/local/lib/python3.10/dist-packages (from streamlit) (9.4.0)\n",
            "Requirement already satisfied: protobuf<6,>=3.20 in /usr/local/lib/python3.10/dist-packages (from streamlit) (3.20.3)\n",
            "Requirement already satisfied: pyarrow>=7.0 in /usr/local/lib/python3.10/dist-packages (from streamlit) (14.0.2)\n",
            "Requirement already satisfied: requests<3,>=2.27 in /usr/local/lib/python3.10/dist-packages (from streamlit) (2.31.0)\n",
            "Requirement already satisfied: rich<14,>=10.14.0 in /usr/local/lib/python3.10/dist-packages (from streamlit) (13.7.1)\n",
            "Requirement already satisfied: tenacity<9,>=8.1.0 in /usr/local/lib/python3.10/dist-packages (from streamlit) (8.4.2)\n",
            "Requirement already satisfied: toml<2,>=0.10.1 in /usr/local/lib/python3.10/dist-packages (from streamlit) (0.10.2)\n",
            "Requirement already satisfied: typing-extensions<5,>=4.3.0 in /usr/local/lib/python3.10/dist-packages (from streamlit) (4.12.2)\n",
            "Collecting gitpython!=3.1.19,<4,>=3.0.7 (from streamlit)\n",
            "  Downloading GitPython-3.1.43-py3-none-any.whl (207 kB)\n",
            "\u001b[2K     \u001b[90m━━━━━━━━━━━━━━━━━━━━━━━━━━━━━━━━━━━━━━━━\u001b[0m \u001b[32m207.3/207.3 kB\u001b[0m \u001b[31m24.3 MB/s\u001b[0m eta \u001b[36m0:00:00\u001b[0m\n",
            "\u001b[?25hCollecting pydeck<1,>=0.8.0b4 (from streamlit)\n",
            "  Downloading pydeck-0.9.1-py2.py3-none-any.whl (6.9 MB)\n",
            "\u001b[2K     \u001b[90m━━━━━━━━━━━━━━━━━━━━━━━━━━━━━━━━━━━━━━━━\u001b[0m \u001b[32m6.9/6.9 MB\u001b[0m \u001b[31m59.9 MB/s\u001b[0m eta \u001b[36m0:00:00\u001b[0m\n",
            "\u001b[?25hRequirement already satisfied: tornado<7,>=6.0.3 in /usr/local/lib/python3.10/dist-packages (from streamlit) (6.3.3)\n",
            "Collecting watchdog<5,>=2.1.5 (from streamlit)\n",
            "  Downloading watchdog-4.0.1-py3-none-manylinux2014_x86_64.whl (83 kB)\n",
            "\u001b[2K     \u001b[90m━━━━━━━━━━━━━━━━━━━━━━━━━━━━━━━━━━━━━━━━\u001b[0m \u001b[32m83.0/83.0 kB\u001b[0m \u001b[31m5.7 MB/s\u001b[0m eta \u001b[36m0:00:00\u001b[0m\n",
            "\u001b[?25hRequirement already satisfied: entrypoints in /usr/local/lib/python3.10/dist-packages (from altair<6,>=4.0->streamlit) (0.4)\n",
            "Requirement already satisfied: jinja2 in /usr/local/lib/python3.10/dist-packages (from altair<6,>=4.0->streamlit) (3.1.4)\n",
            "Requirement already satisfied: jsonschema>=3.0 in /usr/local/lib/python3.10/dist-packages (from altair<6,>=4.0->streamlit) (4.19.2)\n",
            "Requirement already satisfied: toolz in /usr/local/lib/python3.10/dist-packages (from altair<6,>=4.0->streamlit) (0.12.1)\n",
            "Collecting gitdb<5,>=4.0.1 (from gitpython!=3.1.19,<4,>=3.0.7->streamlit)\n",
            "  Downloading gitdb-4.0.11-py3-none-any.whl (62 kB)\n",
            "\u001b[2K     \u001b[90m━━━━━━━━━━━━━━━━━━━━━━━━━━━━━━━━━━━━━━━━\u001b[0m \u001b[32m62.7/62.7 kB\u001b[0m \u001b[31m7.4 MB/s\u001b[0m eta \u001b[36m0:00:00\u001b[0m\n",
            "\u001b[?25hRequirement already satisfied: python-dateutil>=2.8.2 in /usr/local/lib/python3.10/dist-packages (from pandas<3,>=1.3.0->streamlit) (2.8.2)\n",
            "Requirement already satisfied: pytz>=2020.1 in /usr/local/lib/python3.10/dist-packages (from pandas<3,>=1.3.0->streamlit) (2023.4)\n",
            "Requirement already satisfied: tzdata>=2022.1 in /usr/local/lib/python3.10/dist-packages (from pandas<3,>=1.3.0->streamlit) (2024.1)\n",
            "Requirement already satisfied: charset-normalizer<4,>=2 in /usr/local/lib/python3.10/dist-packages (from requests<3,>=2.27->streamlit) (3.3.2)\n",
            "Requirement already satisfied: idna<4,>=2.5 in /usr/local/lib/python3.10/dist-packages (from requests<3,>=2.27->streamlit) (3.7)\n",
            "Requirement already satisfied: urllib3<3,>=1.21.1 in /usr/local/lib/python3.10/dist-packages (from requests<3,>=2.27->streamlit) (2.0.7)\n",
            "Requirement already satisfied: certifi>=2017.4.17 in /usr/local/lib/python3.10/dist-packages (from requests<3,>=2.27->streamlit) (2024.6.2)\n",
            "Requirement already satisfied: markdown-it-py>=2.2.0 in /usr/local/lib/python3.10/dist-packages (from rich<14,>=10.14.0->streamlit) (3.0.0)\n",
            "Requirement already satisfied: pygments<3.0.0,>=2.13.0 in /usr/local/lib/python3.10/dist-packages (from rich<14,>=10.14.0->streamlit) (2.16.1)\n",
            "Collecting smmap<6,>=3.0.1 (from gitdb<5,>=4.0.1->gitpython!=3.1.19,<4,>=3.0.7->streamlit)\n",
            "  Downloading smmap-5.0.1-py3-none-any.whl (24 kB)\n",
            "Requirement already satisfied: MarkupSafe>=2.0 in /usr/local/lib/python3.10/dist-packages (from jinja2->altair<6,>=4.0->streamlit) (2.1.5)\n",
            "Requirement already satisfied: attrs>=22.2.0 in /usr/local/lib/python3.10/dist-packages (from jsonschema>=3.0->altair<6,>=4.0->streamlit) (23.2.0)\n",
            "Requirement already satisfied: jsonschema-specifications>=2023.03.6 in /usr/local/lib/python3.10/dist-packages (from jsonschema>=3.0->altair<6,>=4.0->streamlit) (2023.12.1)\n",
            "Requirement already satisfied: referencing>=0.28.4 in /usr/local/lib/python3.10/dist-packages (from jsonschema>=3.0->altair<6,>=4.0->streamlit) (0.35.1)\n",
            "Requirement already satisfied: rpds-py>=0.7.1 in /usr/local/lib/python3.10/dist-packages (from jsonschema>=3.0->altair<6,>=4.0->streamlit) (0.18.1)\n",
            "Requirement already satisfied: mdurl~=0.1 in /usr/local/lib/python3.10/dist-packages (from markdown-it-py>=2.2.0->rich<14,>=10.14.0->streamlit) (0.1.2)\n",
            "Requirement already satisfied: six>=1.5 in /usr/local/lib/python3.10/dist-packages (from python-dateutil>=2.8.2->pandas<3,>=1.3.0->streamlit) (1.16.0)\n",
            "Installing collected packages: watchdog, smmap, pydeck, gitdb, gitpython, streamlit\n",
            "Successfully installed gitdb-4.0.11 gitpython-3.1.43 pydeck-0.9.1 smmap-5.0.1 streamlit-1.36.0 watchdog-4.0.1\n"
          ]
        }
      ]
    },
    {
      "cell_type": "code",
      "source": [
        "!pip install langchain"
      ],
      "metadata": {
        "colab": {
          "base_uri": "https://localhost:8080/"
        },
        "id": "ivBwfYstFUMN",
        "outputId": "6c129caa-e8c9-4500-8dab-34edb3eb0704"
      },
      "id": "ivBwfYstFUMN",
      "execution_count": null,
      "outputs": [
        {
          "output_type": "stream",
          "name": "stdout",
          "text": [
            "Collecting langchain\n",
            "  Downloading langchain-0.2.7-py3-none-any.whl (983 kB)\n",
            "\u001b[2K     \u001b[90m━━━━━━━━━━━━━━━━━━━━━━━━━━━━━━━━━━━━━━━━\u001b[0m \u001b[32m983.6/983.6 kB\u001b[0m \u001b[31m7.9 MB/s\u001b[0m eta \u001b[36m0:00:00\u001b[0m\n",
            "\u001b[?25hRequirement already satisfied: PyYAML>=5.3 in /usr/local/lib/python3.10/dist-packages (from langchain) (6.0.1)\n",
            "Requirement already satisfied: SQLAlchemy<3,>=1.4 in /usr/local/lib/python3.10/dist-packages (from langchain) (2.0.31)\n",
            "Requirement already satisfied: aiohttp<4.0.0,>=3.8.3 in /usr/local/lib/python3.10/dist-packages (from langchain) (3.9.5)\n",
            "Requirement already satisfied: async-timeout<5.0.0,>=4.0.0 in /usr/local/lib/python3.10/dist-packages (from langchain) (4.0.3)\n",
            "Collecting langchain-core<0.3.0,>=0.2.12 (from langchain)\n",
            "  Downloading langchain_core-0.2.12-py3-none-any.whl (355 kB)\n",
            "\u001b[2K     \u001b[90m━━━━━━━━━━━━━━━━━━━━━━━━━━━━━━━━━━━━━━━━\u001b[0m \u001b[32m355.8/355.8 kB\u001b[0m \u001b[31m14.3 MB/s\u001b[0m eta \u001b[36m0:00:00\u001b[0m\n",
            "\u001b[?25hCollecting langchain-text-splitters<0.3.0,>=0.2.0 (from langchain)\n",
            "  Downloading langchain_text_splitters-0.2.2-py3-none-any.whl (25 kB)\n",
            "Collecting langsmith<0.2.0,>=0.1.17 (from langchain)\n",
            "  Downloading langsmith-0.1.84-py3-none-any.whl (127 kB)\n",
            "\u001b[2K     \u001b[90m━━━━━━━━━━━━━━━━━━━━━━━━━━━━━━━━━━━━━━━━\u001b[0m \u001b[32m127.9/127.9 kB\u001b[0m \u001b[31m9.8 MB/s\u001b[0m eta \u001b[36m0:00:00\u001b[0m\n",
            "\u001b[?25hRequirement already satisfied: numpy<2,>=1 in /usr/local/lib/python3.10/dist-packages (from langchain) (1.25.2)\n",
            "Requirement already satisfied: pydantic<3,>=1 in /usr/local/lib/python3.10/dist-packages (from langchain) (2.8.0)\n",
            "Requirement already satisfied: requests<3,>=2 in /usr/local/lib/python3.10/dist-packages (from langchain) (2.31.0)\n",
            "Requirement already satisfied: tenacity!=8.4.0,<9.0.0,>=8.1.0 in /usr/local/lib/python3.10/dist-packages (from langchain) (8.4.2)\n",
            "Requirement already satisfied: aiosignal>=1.1.2 in /usr/local/lib/python3.10/dist-packages (from aiohttp<4.0.0,>=3.8.3->langchain) (1.3.1)\n",
            "Requirement already satisfied: attrs>=17.3.0 in /usr/local/lib/python3.10/dist-packages (from aiohttp<4.0.0,>=3.8.3->langchain) (23.2.0)\n",
            "Requirement already satisfied: frozenlist>=1.1.1 in /usr/local/lib/python3.10/dist-packages (from aiohttp<4.0.0,>=3.8.3->langchain) (1.4.1)\n",
            "Requirement already satisfied: multidict<7.0,>=4.5 in /usr/local/lib/python3.10/dist-packages (from aiohttp<4.0.0,>=3.8.3->langchain) (6.0.5)\n",
            "Requirement already satisfied: yarl<2.0,>=1.0 in /usr/local/lib/python3.10/dist-packages (from aiohttp<4.0.0,>=3.8.3->langchain) (1.9.4)\n",
            "Collecting jsonpatch<2.0,>=1.33 (from langchain-core<0.3.0,>=0.2.12->langchain)\n",
            "  Downloading jsonpatch-1.33-py2.py3-none-any.whl (12 kB)\n",
            "Requirement already satisfied: packaging<25,>=23.2 in /usr/local/lib/python3.10/dist-packages (from langchain-core<0.3.0,>=0.2.12->langchain) (24.1)\n",
            "Collecting orjson<4.0.0,>=3.9.14 (from langsmith<0.2.0,>=0.1.17->langchain)\n",
            "  Downloading orjson-3.10.6-cp310-cp310-manylinux_2_17_x86_64.manylinux2014_x86_64.whl (141 kB)\n",
            "\u001b[2K     \u001b[90m━━━━━━━━━━━━━━━━━━━━━━━━━━━━━━━━━━━━━━━━\u001b[0m \u001b[32m141.1/141.1 kB\u001b[0m \u001b[31m15.3 MB/s\u001b[0m eta \u001b[36m0:00:00\u001b[0m\n",
            "\u001b[?25hRequirement already satisfied: annotated-types>=0.4.0 in /usr/local/lib/python3.10/dist-packages (from pydantic<3,>=1->langchain) (0.7.0)\n",
            "Requirement already satisfied: pydantic-core==2.20.0 in /usr/local/lib/python3.10/dist-packages (from pydantic<3,>=1->langchain) (2.20.0)\n",
            "Requirement already satisfied: typing-extensions>=4.6.1 in /usr/local/lib/python3.10/dist-packages (from pydantic<3,>=1->langchain) (4.12.2)\n",
            "Requirement already satisfied: charset-normalizer<4,>=2 in /usr/local/lib/python3.10/dist-packages (from requests<3,>=2->langchain) (3.3.2)\n",
            "Requirement already satisfied: idna<4,>=2.5 in /usr/local/lib/python3.10/dist-packages (from requests<3,>=2->langchain) (3.7)\n",
            "Requirement already satisfied: urllib3<3,>=1.21.1 in /usr/local/lib/python3.10/dist-packages (from requests<3,>=2->langchain) (2.0.7)\n",
            "Requirement already satisfied: certifi>=2017.4.17 in /usr/local/lib/python3.10/dist-packages (from requests<3,>=2->langchain) (2024.6.2)\n",
            "Requirement already satisfied: greenlet!=0.4.17 in /usr/local/lib/python3.10/dist-packages (from SQLAlchemy<3,>=1.4->langchain) (3.0.3)\n",
            "Collecting jsonpointer>=1.9 (from jsonpatch<2.0,>=1.33->langchain-core<0.3.0,>=0.2.12->langchain)\n",
            "  Downloading jsonpointer-3.0.0-py2.py3-none-any.whl (7.6 kB)\n",
            "Installing collected packages: orjson, jsonpointer, jsonpatch, langsmith, langchain-core, langchain-text-splitters, langchain\n",
            "Successfully installed jsonpatch-1.33 jsonpointer-3.0.0 langchain-0.2.7 langchain-core-0.2.12 langchain-text-splitters-0.2.2 langsmith-0.1.84 orjson-3.10.6\n"
          ]
        }
      ]
    },
    {
      "cell_type": "code",
      "source": [
        "!pip install langchain_community"
      ],
      "metadata": {
        "colab": {
          "base_uri": "https://localhost:8080/"
        },
        "id": "WkTZ8GY2FmFD",
        "outputId": "9f833e27-6085-433c-aa26-725ffe79ca12"
      },
      "id": "WkTZ8GY2FmFD",
      "execution_count": null,
      "outputs": [
        {
          "output_type": "stream",
          "name": "stdout",
          "text": [
            "Collecting langchain_community\n",
            "  Downloading langchain_community-0.2.7-py3-none-any.whl (2.2 MB)\n",
            "\u001b[2K     \u001b[90m━━━━━━━━━━━━━━━━━━━━━━━━━━━━━━━━━━━━━━━━\u001b[0m \u001b[32m2.2/2.2 MB\u001b[0m \u001b[31m11.1 MB/s\u001b[0m eta \u001b[36m0:00:00\u001b[0m\n",
            "\u001b[?25hRequirement already satisfied: PyYAML>=5.3 in /usr/local/lib/python3.10/dist-packages (from langchain_community) (6.0.1)\n",
            "Requirement already satisfied: SQLAlchemy<3,>=1.4 in /usr/local/lib/python3.10/dist-packages (from langchain_community) (2.0.31)\n",
            "Requirement already satisfied: aiohttp<4.0.0,>=3.8.3 in /usr/local/lib/python3.10/dist-packages (from langchain_community) (3.9.5)\n",
            "Collecting dataclasses-json<0.7,>=0.5.7 (from langchain_community)\n",
            "  Downloading dataclasses_json-0.6.7-py3-none-any.whl (28 kB)\n",
            "Requirement already satisfied: langchain<0.3.0,>=0.2.7 in /usr/local/lib/python3.10/dist-packages (from langchain_community) (0.2.7)\n",
            "Requirement already satisfied: langchain-core<0.3.0,>=0.2.12 in /usr/local/lib/python3.10/dist-packages (from langchain_community) (0.2.12)\n",
            "Requirement already satisfied: langsmith<0.2.0,>=0.1.0 in /usr/local/lib/python3.10/dist-packages (from langchain_community) (0.1.84)\n",
            "Requirement already satisfied: numpy<2,>=1 in /usr/local/lib/python3.10/dist-packages (from langchain_community) (1.25.2)\n",
            "Requirement already satisfied: requests<3,>=2 in /usr/local/lib/python3.10/dist-packages (from langchain_community) (2.31.0)\n",
            "Requirement already satisfied: tenacity!=8.4.0,<9.0.0,>=8.1.0 in /usr/local/lib/python3.10/dist-packages (from langchain_community) (8.4.2)\n",
            "Requirement already satisfied: aiosignal>=1.1.2 in /usr/local/lib/python3.10/dist-packages (from aiohttp<4.0.0,>=3.8.3->langchain_community) (1.3.1)\n",
            "Requirement already satisfied: attrs>=17.3.0 in /usr/local/lib/python3.10/dist-packages (from aiohttp<4.0.0,>=3.8.3->langchain_community) (23.2.0)\n",
            "Requirement already satisfied: frozenlist>=1.1.1 in /usr/local/lib/python3.10/dist-packages (from aiohttp<4.0.0,>=3.8.3->langchain_community) (1.4.1)\n",
            "Requirement already satisfied: multidict<7.0,>=4.5 in /usr/local/lib/python3.10/dist-packages (from aiohttp<4.0.0,>=3.8.3->langchain_community) (6.0.5)\n",
            "Requirement already satisfied: yarl<2.0,>=1.0 in /usr/local/lib/python3.10/dist-packages (from aiohttp<4.0.0,>=3.8.3->langchain_community) (1.9.4)\n",
            "Requirement already satisfied: async-timeout<5.0,>=4.0 in /usr/local/lib/python3.10/dist-packages (from aiohttp<4.0.0,>=3.8.3->langchain_community) (4.0.3)\n",
            "Collecting marshmallow<4.0.0,>=3.18.0 (from dataclasses-json<0.7,>=0.5.7->langchain_community)\n",
            "  Downloading marshmallow-3.21.3-py3-none-any.whl (49 kB)\n",
            "\u001b[2K     \u001b[90m━━━━━━━━━━━━━━━━━━━━━━━━━━━━━━━━━━━━━━━━\u001b[0m \u001b[32m49.2/49.2 kB\u001b[0m \u001b[31m6.3 MB/s\u001b[0m eta \u001b[36m0:00:00\u001b[0m\n",
            "\u001b[?25hCollecting typing-inspect<1,>=0.4.0 (from dataclasses-json<0.7,>=0.5.7->langchain_community)\n",
            "  Downloading typing_inspect-0.9.0-py3-none-any.whl (8.8 kB)\n",
            "Requirement already satisfied: langchain-text-splitters<0.3.0,>=0.2.0 in /usr/local/lib/python3.10/dist-packages (from langchain<0.3.0,>=0.2.7->langchain_community) (0.2.2)\n",
            "Requirement already satisfied: pydantic<3,>=1 in /usr/local/lib/python3.10/dist-packages (from langchain<0.3.0,>=0.2.7->langchain_community) (2.8.0)\n",
            "Requirement already satisfied: jsonpatch<2.0,>=1.33 in /usr/local/lib/python3.10/dist-packages (from langchain-core<0.3.0,>=0.2.12->langchain_community) (1.33)\n",
            "Requirement already satisfied: packaging<25,>=23.2 in /usr/local/lib/python3.10/dist-packages (from langchain-core<0.3.0,>=0.2.12->langchain_community) (24.1)\n",
            "Requirement already satisfied: orjson<4.0.0,>=3.9.14 in /usr/local/lib/python3.10/dist-packages (from langsmith<0.2.0,>=0.1.0->langchain_community) (3.10.6)\n",
            "Requirement already satisfied: charset-normalizer<4,>=2 in /usr/local/lib/python3.10/dist-packages (from requests<3,>=2->langchain_community) (3.3.2)\n",
            "Requirement already satisfied: idna<4,>=2.5 in /usr/local/lib/python3.10/dist-packages (from requests<3,>=2->langchain_community) (3.7)\n",
            "Requirement already satisfied: urllib3<3,>=1.21.1 in /usr/local/lib/python3.10/dist-packages (from requests<3,>=2->langchain_community) (2.0.7)\n",
            "Requirement already satisfied: certifi>=2017.4.17 in /usr/local/lib/python3.10/dist-packages (from requests<3,>=2->langchain_community) (2024.6.2)\n",
            "Requirement already satisfied: typing-extensions>=4.6.0 in /usr/local/lib/python3.10/dist-packages (from SQLAlchemy<3,>=1.4->langchain_community) (4.12.2)\n",
            "Requirement already satisfied: greenlet!=0.4.17 in /usr/local/lib/python3.10/dist-packages (from SQLAlchemy<3,>=1.4->langchain_community) (3.0.3)\n",
            "Requirement already satisfied: jsonpointer>=1.9 in /usr/local/lib/python3.10/dist-packages (from jsonpatch<2.0,>=1.33->langchain-core<0.3.0,>=0.2.12->langchain_community) (3.0.0)\n",
            "Requirement already satisfied: annotated-types>=0.4.0 in /usr/local/lib/python3.10/dist-packages (from pydantic<3,>=1->langchain<0.3.0,>=0.2.7->langchain_community) (0.7.0)\n",
            "Requirement already satisfied: pydantic-core==2.20.0 in /usr/local/lib/python3.10/dist-packages (from pydantic<3,>=1->langchain<0.3.0,>=0.2.7->langchain_community) (2.20.0)\n",
            "Collecting mypy-extensions>=0.3.0 (from typing-inspect<1,>=0.4.0->dataclasses-json<0.7,>=0.5.7->langchain_community)\n",
            "  Downloading mypy_extensions-1.0.0-py3-none-any.whl (4.7 kB)\n",
            "Installing collected packages: mypy-extensions, marshmallow, typing-inspect, dataclasses-json, langchain_community\n",
            "Successfully installed dataclasses-json-0.6.7 langchain_community-0.2.7 marshmallow-3.21.3 mypy-extensions-1.0.0 typing-inspect-0.9.0\n"
          ]
        }
      ]
    },
    {
      "cell_type": "code",
      "source": [
        "import os\n",
        "import streamlit as st\n",
        "import pickle\n",
        "import time\n",
        "import langchain\n",
        "from langchain_community.llms import OpenAI # Import OpenAI from the correct module\n",
        "from langchain.chains import RetrievalQAWithSourcesChain\n",
        "from langchain.chains.qa_with_sources.loading import load_qa_with_sources_chain\n",
        "from langchain.text_splitter import RecursiveCharacterTextSplitter\n",
        "from langchain.document_loaders import UnstructuredURLLoader\n",
        "from langchain.embeddings import OpenAIEmbeddings\n",
        "from langchain.vectorstores import FAISS"
      ],
      "metadata": {
        "id": "G26DvpVEFkij"
      },
      "id": "G26DvpVEFkij",
      "execution_count": null,
      "outputs": []
    },
    {
      "cell_type": "code",
      "source": [
        "!pip install openai"
      ],
      "metadata": {
        "colab": {
          "base_uri": "https://localhost:8080/"
        },
        "id": "2Z5DxR9QFyub",
        "outputId": "0676c723-0df3-46cc-8f82-7f6b0d3a5eb5"
      },
      "id": "2Z5DxR9QFyub",
      "execution_count": null,
      "outputs": [
        {
          "output_type": "stream",
          "name": "stdout",
          "text": [
            "Collecting openai\n",
            "  Downloading openai-1.35.13-py3-none-any.whl (328 kB)\n",
            "\u001b[2K     \u001b[90m━━━━━━━━━━━━━━━━━━━━━━━━━━━━━━━━━━━━━━━━\u001b[0m \u001b[32m328.5/328.5 kB\u001b[0m \u001b[31m5.7 MB/s\u001b[0m eta \u001b[36m0:00:00\u001b[0m\n",
            "\u001b[?25hRequirement already satisfied: anyio<5,>=3.5.0 in /usr/local/lib/python3.10/dist-packages (from openai) (3.7.1)\n",
            "Requirement already satisfied: distro<2,>=1.7.0 in /usr/lib/python3/dist-packages (from openai) (1.7.0)\n",
            "Collecting httpx<1,>=0.23.0 (from openai)\n",
            "  Downloading httpx-0.27.0-py3-none-any.whl (75 kB)\n",
            "\u001b[2K     \u001b[90m━━━━━━━━━━━━━━━━━━━━━━━━━━━━━━━━━━━━━━━━\u001b[0m \u001b[32m75.6/75.6 kB\u001b[0m \u001b[31m8.1 MB/s\u001b[0m eta \u001b[36m0:00:00\u001b[0m\n",
            "\u001b[?25hRequirement already satisfied: pydantic<3,>=1.9.0 in /usr/local/lib/python3.10/dist-packages (from openai) (2.8.0)\n",
            "Requirement already satisfied: sniffio in /usr/local/lib/python3.10/dist-packages (from openai) (1.3.1)\n",
            "Requirement already satisfied: tqdm>4 in /usr/local/lib/python3.10/dist-packages (from openai) (4.66.4)\n",
            "Requirement already satisfied: typing-extensions<5,>=4.7 in /usr/local/lib/python3.10/dist-packages (from openai) (4.12.2)\n",
            "Requirement already satisfied: idna>=2.8 in /usr/local/lib/python3.10/dist-packages (from anyio<5,>=3.5.0->openai) (3.7)\n",
            "Requirement already satisfied: exceptiongroup in /usr/local/lib/python3.10/dist-packages (from anyio<5,>=3.5.0->openai) (1.2.1)\n",
            "Requirement already satisfied: certifi in /usr/local/lib/python3.10/dist-packages (from httpx<1,>=0.23.0->openai) (2024.6.2)\n",
            "Collecting httpcore==1.* (from httpx<1,>=0.23.0->openai)\n",
            "  Downloading httpcore-1.0.5-py3-none-any.whl (77 kB)\n",
            "\u001b[2K     \u001b[90m━━━━━━━━━━━━━━━━━━━━━━━━━━━━━━━━━━━━━━━━\u001b[0m \u001b[32m77.9/77.9 kB\u001b[0m \u001b[31m4.7 MB/s\u001b[0m eta \u001b[36m0:00:00\u001b[0m\n",
            "\u001b[?25hCollecting h11<0.15,>=0.13 (from httpcore==1.*->httpx<1,>=0.23.0->openai)\n",
            "  Downloading h11-0.14.0-py3-none-any.whl (58 kB)\n",
            "\u001b[2K     \u001b[90m━━━━━━━━━━━━━━━━━━━━━━━━━━━━━━━━━━━━━━━━\u001b[0m \u001b[32m58.3/58.3 kB\u001b[0m \u001b[31m5.4 MB/s\u001b[0m eta \u001b[36m0:00:00\u001b[0m\n",
            "\u001b[?25hRequirement already satisfied: annotated-types>=0.4.0 in /usr/local/lib/python3.10/dist-packages (from pydantic<3,>=1.9.0->openai) (0.7.0)\n",
            "Requirement already satisfied: pydantic-core==2.20.0 in /usr/local/lib/python3.10/dist-packages (from pydantic<3,>=1.9.0->openai) (2.20.0)\n",
            "Installing collected packages: h11, httpcore, httpx, openai\n",
            "Successfully installed h11-0.14.0 httpcore-1.0.5 httpx-0.27.0 openai-1.35.13\n"
          ]
        }
      ]
    },
    {
      "cell_type": "code",
      "execution_count": null,
      "id": "80fc5e57",
      "metadata": {
        "id": "80fc5e57"
      },
      "outputs": [],
      "source": [
        "#load openAI api key\n",
        "os.environ['OPENAI_API_KEY'] = 'OPENAI API KEY'"
      ]
    },
    {
      "cell_type": "code",
      "execution_count": null,
      "id": "39e721c4",
      "metadata": {
        "id": "39e721c4"
      },
      "outputs": [],
      "source": [
        "# Initialise LLM with required params\n",
        "llm = OpenAI(temperature=0.9, max_tokens=500)"
      ]
    },
    {
      "cell_type": "markdown",
      "id": "bd0c3ff7",
      "metadata": {
        "id": "bd0c3ff7"
      },
      "source": [
        "### (1) Load data"
      ]
    },
    {
      "cell_type": "code",
      "source": [
        "!pip install unstructured"
      ],
      "metadata": {
        "colab": {
          "base_uri": "https://localhost:8080/"
        },
        "collapsed": true,
        "id": "P4xvDRlDGYEV",
        "outputId": "1385051b-3e02-4f63-96d8-8a84957bae5d"
      },
      "id": "P4xvDRlDGYEV",
      "execution_count": null,
      "outputs": [
        {
          "output_type": "stream",
          "name": "stdout",
          "text": [
            "Collecting unstructured\n",
            "  Using cached unstructured-0.14.10-py3-none-any.whl (2.1 MB)\n",
            "Requirement already satisfied: chardet in /usr/local/lib/python3.10/dist-packages (from unstructured) (5.2.0)\n",
            "Collecting filetype (from unstructured)\n",
            "  Downloading filetype-1.2.0-py2.py3-none-any.whl (19 kB)\n",
            "Collecting python-magic (from unstructured)\n",
            "  Using cached python_magic-0.4.27-py2.py3-none-any.whl (13 kB)\n",
            "Requirement already satisfied: lxml in /usr/local/lib/python3.10/dist-packages (from unstructured) (4.9.4)\n",
            "Requirement already satisfied: nltk in /usr/local/lib/python3.10/dist-packages (from unstructured) (3.8.1)\n",
            "Requirement already satisfied: tabulate in /usr/local/lib/python3.10/dist-packages (from unstructured) (0.9.0)\n",
            "Requirement already satisfied: requests in /usr/local/lib/python3.10/dist-packages (from unstructured) (2.31.0)\n",
            "Requirement already satisfied: beautifulsoup4 in /usr/local/lib/python3.10/dist-packages (from unstructured) (4.12.3)\n",
            "Collecting emoji (from unstructured)\n",
            "  Downloading emoji-2.12.1-py3-none-any.whl (431 kB)\n",
            "\u001b[2K     \u001b[90m━━━━━━━━━━━━━━━━━━━━━━━━━━━━━━━━━━━━━━━━\u001b[0m \u001b[32m431.4/431.4 kB\u001b[0m \u001b[31m8.8 MB/s\u001b[0m eta \u001b[36m0:00:00\u001b[0m\n",
            "\u001b[?25hRequirement already satisfied: dataclasses-json in /usr/local/lib/python3.10/dist-packages (from unstructured) (0.6.7)\n",
            "Collecting python-iso639 (from unstructured)\n",
            "  Downloading python_iso639-2024.4.27-py3-none-any.whl (274 kB)\n",
            "\u001b[2K     \u001b[90m━━━━━━━━━━━━━━━━━━━━━━━━━━━━━━━━━━━━━━━━\u001b[0m \u001b[32m274.7/274.7 kB\u001b[0m \u001b[31m10.0 MB/s\u001b[0m eta \u001b[36m0:00:00\u001b[0m\n",
            "\u001b[?25hCollecting langdetect (from unstructured)\n",
            "  Downloading langdetect-1.0.9.tar.gz (981 kB)\n",
            "\u001b[2K     \u001b[90m━━━━━━━━━━━━━━━━━━━━━━━━━━━━━━━━━━━━━━━━\u001b[0m \u001b[32m981.5/981.5 kB\u001b[0m \u001b[31m16.2 MB/s\u001b[0m eta \u001b[36m0:00:00\u001b[0m\n",
            "\u001b[?25h  Preparing metadata (setup.py) ... \u001b[?25l\u001b[?25hdone\n",
            "Requirement already satisfied: numpy<2 in /usr/local/lib/python3.10/dist-packages (from unstructured) (1.25.2)\n",
            "Collecting rapidfuzz (from unstructured)\n",
            "  Downloading rapidfuzz-3.9.4-cp310-cp310-manylinux_2_17_x86_64.manylinux2014_x86_64.whl (3.4 MB)\n",
            "\u001b[2K     \u001b[90m━━━━━━━━━━━━━━━━━━━━━━━━━━━━━━━━━━━━━━━━\u001b[0m \u001b[32m3.4/3.4 MB\u001b[0m \u001b[31m27.5 MB/s\u001b[0m eta \u001b[36m0:00:00\u001b[0m\n",
            "\u001b[?25hCollecting backoff (from unstructured)\n",
            "  Downloading backoff-2.2.1-py3-none-any.whl (15 kB)\n",
            "Requirement already satisfied: typing-extensions in /usr/local/lib/python3.10/dist-packages (from unstructured) (4.12.2)\n",
            "Collecting unstructured-client (from unstructured)\n",
            "  Downloading unstructured_client-0.24.0-py3-none-any.whl (40 kB)\n",
            "\u001b[2K     \u001b[90m━━━━━━━━━━━━━━━━━━━━━━━━━━━━━━━━━━━━━━━━\u001b[0m \u001b[32m41.0/41.0 kB\u001b[0m \u001b[31m5.0 MB/s\u001b[0m eta \u001b[36m0:00:00\u001b[0m\n",
            "\u001b[?25hRequirement already satisfied: wrapt in /usr/local/lib/python3.10/dist-packages (from unstructured) (1.14.1)\n",
            "Requirement already satisfied: tqdm in /usr/local/lib/python3.10/dist-packages (from unstructured) (4.66.4)\n",
            "Requirement already satisfied: psutil in /usr/local/lib/python3.10/dist-packages (from unstructured) (5.9.5)\n",
            "Requirement already satisfied: soupsieve>1.2 in /usr/local/lib/python3.10/dist-packages (from beautifulsoup4->unstructured) (2.5)\n",
            "Requirement already satisfied: marshmallow<4.0.0,>=3.18.0 in /usr/local/lib/python3.10/dist-packages (from dataclasses-json->unstructured) (3.21.3)\n",
            "Requirement already satisfied: typing-inspect<1,>=0.4.0 in /usr/local/lib/python3.10/dist-packages (from dataclasses-json->unstructured) (0.9.0)\n",
            "Requirement already satisfied: six in /usr/local/lib/python3.10/dist-packages (from langdetect->unstructured) (1.16.0)\n",
            "Requirement already satisfied: click in /usr/local/lib/python3.10/dist-packages (from nltk->unstructured) (8.1.7)\n",
            "Requirement already satisfied: joblib in /usr/local/lib/python3.10/dist-packages (from nltk->unstructured) (1.4.2)\n",
            "Requirement already satisfied: regex>=2021.8.3 in /usr/local/lib/python3.10/dist-packages (from nltk->unstructured) (2024.5.15)\n",
            "Requirement already satisfied: charset-normalizer<4,>=2 in /usr/local/lib/python3.10/dist-packages (from requests->unstructured) (3.3.2)\n",
            "Requirement already satisfied: idna<4,>=2.5 in /usr/local/lib/python3.10/dist-packages (from requests->unstructured) (3.7)\n",
            "Requirement already satisfied: urllib3<3,>=1.21.1 in /usr/local/lib/python3.10/dist-packages (from requests->unstructured) (2.0.7)\n",
            "Requirement already satisfied: certifi>=2017.4.17 in /usr/local/lib/python3.10/dist-packages (from requests->unstructured) (2024.6.2)\n",
            "Collecting deepdiff>=6.0 (from unstructured-client->unstructured)\n",
            "  Downloading deepdiff-7.0.1-py3-none-any.whl (80 kB)\n",
            "\u001b[2K     \u001b[90m━━━━━━━━━━━━━━━━━━━━━━━━━━━━━━━━━━━━━━━━\u001b[0m \u001b[32m80.8/80.8 kB\u001b[0m \u001b[31m10.6 MB/s\u001b[0m eta \u001b[36m0:00:00\u001b[0m\n",
            "\u001b[?25hRequirement already satisfied: httpx>=0.27.0 in /usr/local/lib/python3.10/dist-packages (from unstructured-client->unstructured) (0.27.0)\n",
            "Collecting jsonpath-python>=1.0.6 (from unstructured-client->unstructured)\n",
            "  Downloading jsonpath_python-1.0.6-py3-none-any.whl (7.6 kB)\n",
            "Requirement already satisfied: mypy-extensions>=1.0.0 in /usr/local/lib/python3.10/dist-packages (from unstructured-client->unstructured) (1.0.0)\n",
            "Requirement already satisfied: nest-asyncio>=1.6.0 in /usr/local/lib/python3.10/dist-packages (from unstructured-client->unstructured) (1.6.0)\n",
            "Requirement already satisfied: packaging>=23.1 in /usr/local/lib/python3.10/dist-packages (from unstructured-client->unstructured) (24.1)\n",
            "Collecting pypdf>=4.0 (from unstructured-client->unstructured)\n",
            "  Downloading pypdf-4.2.0-py3-none-any.whl (290 kB)\n",
            "\u001b[2K     \u001b[90m━━━━━━━━━━━━━━━━━━━━━━━━━━━━━━━━━━━━━━━━\u001b[0m \u001b[32m290.4/290.4 kB\u001b[0m \u001b[31m31.7 MB/s\u001b[0m eta \u001b[36m0:00:00\u001b[0m\n",
            "\u001b[?25hRequirement already satisfied: python-dateutil>=2.8.2 in /usr/local/lib/python3.10/dist-packages (from unstructured-client->unstructured) (2.8.2)\n",
            "Collecting requests-toolbelt>=1.0.0 (from unstructured-client->unstructured)\n",
            "  Downloading requests_toolbelt-1.0.0-py2.py3-none-any.whl (54 kB)\n",
            "\u001b[2K     \u001b[90m━━━━━━━━━━━━━━━━━━━━━━━━━━━━━━━━━━━━━━━━\u001b[0m \u001b[32m54.5/54.5 kB\u001b[0m \u001b[31m6.6 MB/s\u001b[0m eta \u001b[36m0:00:00\u001b[0m\n",
            "\u001b[?25hCollecting ordered-set<4.2.0,>=4.1.0 (from deepdiff>=6.0->unstructured-client->unstructured)\n",
            "  Downloading ordered_set-4.1.0-py3-none-any.whl (7.6 kB)\n",
            "Requirement already satisfied: anyio in /usr/local/lib/python3.10/dist-packages (from httpx>=0.27.0->unstructured-client->unstructured) (3.7.1)\n",
            "Requirement already satisfied: httpcore==1.* in /usr/local/lib/python3.10/dist-packages (from httpx>=0.27.0->unstructured-client->unstructured) (1.0.5)\n",
            "Requirement already satisfied: sniffio in /usr/local/lib/python3.10/dist-packages (from httpx>=0.27.0->unstructured-client->unstructured) (1.3.1)\n",
            "Requirement already satisfied: h11<0.15,>=0.13 in /usr/local/lib/python3.10/dist-packages (from httpcore==1.*->httpx>=0.27.0->unstructured-client->unstructured) (0.14.0)\n",
            "Requirement already satisfied: exceptiongroup in /usr/local/lib/python3.10/dist-packages (from anyio->httpx>=0.27.0->unstructured-client->unstructured) (1.2.1)\n",
            "Building wheels for collected packages: langdetect\n",
            "  Building wheel for langdetect (setup.py) ... \u001b[?25l\u001b[?25hdone\n",
            "  Created wheel for langdetect: filename=langdetect-1.0.9-py3-none-any.whl size=993227 sha256=d9922ef35f000c40f03f61836e71e3e9e272d84ca8f08393ed089784a7d286d5\n",
            "  Stored in directory: /root/.cache/pip/wheels/95/03/7d/59ea870c70ce4e5a370638b5462a7711ab78fba2f655d05106\n",
            "Successfully built langdetect\n",
            "Installing collected packages: filetype, rapidfuzz, python-magic, python-iso639, pypdf, ordered-set, langdetect, jsonpath-python, emoji, backoff, requests-toolbelt, deepdiff, unstructured-client, unstructured\n",
            "Successfully installed backoff-2.2.1 deepdiff-7.0.1 emoji-2.12.1 filetype-1.2.0 jsonpath-python-1.0.6 langdetect-1.0.9 ordered-set-4.1.0 pypdf-4.2.0 python-iso639-2024.4.27 python-magic-0.4.27 rapidfuzz-3.9.4 requests-toolbelt-1.0.0 unstructured-0.14.10 unstructured-client-0.24.0\n"
          ]
        }
      ]
    },
    {
      "cell_type": "code",
      "source": [
        "!pip3 install unstructured libmagic python-magic python-magic-bin"
      ],
      "metadata": {
        "colab": {
          "base_uri": "https://localhost:8080/"
        },
        "id": "4Z2dfcFsGUf8",
        "outputId": "8b6d45d7-3eec-4f25-bee3-34693743297b"
      },
      "id": "4Z2dfcFsGUf8",
      "execution_count": null,
      "outputs": [
        {
          "output_type": "stream",
          "name": "stdout",
          "text": [
            "Requirement already satisfied: unstructured in /usr/local/lib/python3.10/dist-packages (0.14.10)\n",
            "Collecting libmagic\n",
            "  Using cached libmagic-1.0.tar.gz (3.7 kB)\n",
            "  Preparing metadata (setup.py) ... \u001b[?25l\u001b[?25hdone\n",
            "Requirement already satisfied: python-magic in /usr/local/lib/python3.10/dist-packages (0.4.27)\n",
            "\u001b[31mERROR: Could not find a version that satisfies the requirement python-magic-bin (from versions: none)\u001b[0m\u001b[31m\n",
            "\u001b[0m\u001b[31mERROR: No matching distribution found for python-magic-bin\u001b[0m\u001b[31m\n",
            "\u001b[0m"
          ]
        }
      ]
    },
    {
      "cell_type": "code",
      "source": [
        "from langchain.document_loaders import UnstructuredURLLoader"
      ],
      "metadata": {
        "id": "1ctzORYwGiUE"
      },
      "id": "1ctzORYwGiUE",
      "execution_count": null,
      "outputs": []
    },
    {
      "cell_type": "code",
      "execution_count": null,
      "id": "55fa0ef5",
      "metadata": {
        "colab": {
          "base_uri": "https://localhost:8080/"
        },
        "id": "55fa0ef5",
        "outputId": "2fd94b12-5280-4ee5-9f6b-3d5219b1b860"
      },
      "outputs": [
        {
          "output_type": "execute_result",
          "data": {
            "text/plain": [
              "3"
            ]
          },
          "metadata": {},
          "execution_count": 139
        }
      ],
      "source": [
        "loaders = UnstructuredURLLoader(urls=[\n",
        "    \"https://www.deccanherald.com/india/no-disagreements-between-modi-putin-at-meet-kremlin-3100152\",\n",
        "    \"https://www.thehindu.com/news/international/indias-relationship-with-russia-gives-it-ability-to-urge-russian-president-putin-to-end-war-in-ukraine-white-house/article68387851.ece\",\n",
        "    \"https://economictimes.indiatimes.com/news/india/we-never-wanted-them-russia-on-indians-in-russian-army/articleshow/111638059.cms?from=mdr\"\n",
        "])\n",
        "data = loaders.load()\n",
        "len(data)"
      ]
    },
    {
      "cell_type": "code",
      "source": [
        "data[2]"
      ],
      "metadata": {
        "colab": {
          "base_uri": "https://localhost:8080/"
        },
        "id": "lhhCxrDuHg8-",
        "outputId": "21b37018-1d12-4abc-cea1-b35a4174a1f4"
      },
      "id": "lhhCxrDuHg8-",
      "execution_count": null,
      "outputs": [
        {
          "output_type": "execute_result",
          "data": {
            "text/plain": [
              "Document(metadata={'source': 'https://economictimes.indiatimes.com/news/india/we-never-wanted-them-russia-on-indians-in-russian-army/articleshow/111638059.cms?from=mdr'}, page_content='Benchmarks\\n\\nNifty\\n\\n24,324.45\\n\\n108.75\\n\\nFEATURED FUNDS★★★★★Canara Robeco Flexi Cap Fund Regular-Growth5Y Return19.56 %\\n                Invest Now\\n\\nFEATURED FUNDS★★★★★Canara Robeco Infrastructure Fund Regular-Growth5Y Return29.8 %\\n                Invest Now\\n\\nNews\\n\\nEnglish Edition\\n\\nEnglish Editionहिन्दीગુજરાતીमराठीবাংলাಕನ್ನಡമലയാളംதமிழ்తెలుగు\\n\\nToday\\'s ePaper\\n\\nSubscribe\\n\\nSign In\\n\\nMonsoon Offer is Live\\n\\nHome\\n\\nBUDGET\\'24\\n\\nETPrime\\n\\nMarkets\\n\\nMarket Data\\n\\nNews\\n\\nIndustry\\n\\nRise\\n\\nPolitics\\n\\nWealth\\n\\nMF\\n\\nTech\\n\\nCareers\\n\\nOpinion\\n\\nNRI\\n\\nPanache\\n\\nMore Menu\\n\\nIndia\\n\\nDecoded\\n\\nWeb Stories\\n\\nMorning Brief Podcast\\n\\nNewsblogs\\n\\nEconomy\\n\\nAgriculture\\n\\nFinance\\n\\nForeign Trade\\n\\nIndicators\\n\\nInfrastructure\\n\\nPolicy\\n\\nIndustry\\n\\nPolitics\\n\\nET Explains\\n\\nMore\\n\\nCompany\\n\\nCorporate Trends\\n\\nDefence\\n\\nInternational\\n\\nCanada News\\n\\nUK News\\n\\nUS News\\n\\nUAE\\n\\nSaudi Arabia\\n\\nBusiness\\n\\nWorld News\\n\\nET Evoke\\n\\nElections\\n\\nLok Sabha\\n\\nResults\\n\\nExit Polls\\n\\nKey States\\n\\nConstituencies\\n\\nElectoral Map\\n\\nPoll Schedule\\n\\nAssembly Elections\\n\\nAndhra Pradesh\\n\\nOdisha\\n\\nSikkim\\n\\nArunachal Pradesh\\n\\nSports\\n\\nScience\\n\\nEnvironment\\n\\nET TV\\n\\nLatest News\\n\\nMost Read\\n\\nMost Shared\\n\\nMost Commented\\n\\nBusiness News›\\n\\nNews›\\n\\nIndia›\\n\\nWe never wanted them: Russia on Indians in Russian Army\\n\\nThe Economic Times daily newspaper is available online now.\\n\\nRead Today\\'s Paper\\n\\nWe never wanted them: Russia on Indians in Russian Army\\n\\nSECTIONS\\n\\nWe never wanted them: Russia on Indians in Russian Army\\n\\nPTI\\n\\nRate Story\\n\\nFollow us\\n\\nShare\\n\\nFont Size\\n\\nAbc\\n\\nSmall\\n\\nAbc\\n\\nMedium\\n\\nAbc\\n\\nLarge\\n\\nSave\\n\\nPrint\\n\\nComment\\n\\nSynopsis\\n\\nRussian Charge d\\'affaires Roman Babushkin addressed India\\'s concerns over Indian nationals recruited into the Russian Army, clarifying it\\'s a commercial issue, not military. He assured alignment with India\\'s stance and hopes for a quick resolution. Most Indians, he said, work illegally on tourist visas for financial gain. Prime Minister Narendra Modi raised the issue with President Vladimir Putin during his recent visit, leading to assurances for their early discharge and return. This highlights ongoing diplomatic efforts amid the Russia-Ukraine conflict to prevent further recruitment and ensure the safety of affected individuals.\\n\\nRussia on Wednesday said it is hoping for quick resolution of the issue relating to India\\'s call for return of Indians recruited into the \\n\\nRussian Army as support staff and asserted their recruitment was purely a commercial matter. In first comments on the issue from the Russian government, Russia\\'s Charge d\\'affaires Roman Babushkin said Moscow never wanted the Indians to be part of its Army and their number is insignificant in the context of the conflict.\\n\\n\"We are on the same side with the Indian government on the issue... We hope that the issue will be resolved soon,\" he said at a media briefing while responding to a question.\\n\\nBabushkin\\'s remarks came a day after Russia promised to ensure early release and return to home of the\\n\\nIndian nationals working in the\\n\\nRussian military as support staff after\\n\\nPrime Minister Narendra Modi \"very strongly\" raised the issue with President\\n\\nVladimir Putin.\\n\\nBabushkin noted that the issue should not be politicised.\\n\\n\"Let us be very clear, we have never wanted Indians to be part of the Russian Army. You would never see any announcement by Russian authorities on this,\" he said.\\n\\nThe Russian diplomat said most of the Indians were recruited under a commercial framework as they wanted to \"make money\".\\n\\nThe number of Indians -- 50, 60 or 100 people -- does not make any significance in terms of the wider conflict.\\n\\n\"They are there purely for commercial reasons and we did not want to recruit them,\" he said.\\n\\nBabushkin said most of the Indians recruited as support staff are working illegally as they do not have appropriate visas to work.\\n\\nHe said most of them came to Russia on tourist visas.\\n\\nAsked if the families of those killed would be given compensation and Russian citizenship, Babushkin said that it \"should happen anyway as per the contractual obligations\".\\n\\nOn Tuesday,\\n\\nForeign Secretary Vinay Kwatra said in Moscow that the Russian side promised early discharge of all Indian nationals from the service of the Russian Army.\\n\\n\"The prime minister strongly raised the issue of early discharge of Indian nationals who have been misled into the service of the Russian Army. This was taken up strongly by the prime minister and the Russian side promised early discharge of all Indian nationals,\" he said.\\n\\nIt is learnt that Modi raised the issue during his informal talks with Putin over dinner at the Russian leader\\'s dacha or country home on Monday evening.\\n\\nKwatra said the two sides will work on how expeditiously the Indians can be brought back home.\\n\\nLast month, the Ministry of External Affairs (MEA) said the issue of Indian nationals serving with the Russian Army remains a matter of \"utmost concern\" and demanded action from Moscow over it.\\n\\nOn June 11, India said two Indian nationals, who were recruited by the Russian Army, had recently been killed in the ongoing\\n\\nRussia-Ukraine conflict, which took the number of such deaths to four.\\n\\nFollowing the deaths of two Indians, the MEA demanded a \"verified stop\" to further recruitment of Indian nationals by the Russian Army.\\n\\nIn a strongly-worded statement, it said India demanded that there be a \"verified stop to any further recruitment of Indian nationals by the Russian Army and that such activities would not be in \"consonance with our partnership\".\\n\\nIn March, 30-year-old Hyderabad resident Mohammed Asfan succumbed to injuries sustained while serving with Russian troops on the frontlines with Ukraine.\\n\\nIn February,\\n\\nHemal Ashwinbhai Mangua, a 23-year-old resident of Surat in Gujarat, died in a Ukrainian air strike while serving as a \"security helper\" in the Donetsk region.\\n\\nModi was on a two-day high-profile visit to Russia from Monday to hold the 22nd\\n\\nIndia-Russia annual summit with Putin.\\n\\nEconomic Times WhatsApp channel)\\n\\nIn Video: \\n                \\n\\n\\'Russian Army doesn\\'t need Indians\\': Russia’s Charge d’Affaires assures action on \\'fake\\' recruitment\\n\\nRead More News on\\n\\nRussian military\\n\\nIndian nationals\\n\\nPrime Minister Narendra Modi\\n\\nVladimir Putin\\n\\nForeign Secretary Vinay Kwatra\\n\\nRussian Army\\n\\nIndian Army\\n\\nhemal ashwinbhai mangua\\n\\n(Catch all the Business News, Breaking News, Budget 2024 Events and Latest News Updates on The Economic Times.)\\n\\nSubscribe to The Economic Times Prime and read the ET ePaper online.\\n\\n...more\\n\\nless\\n\\nEconomic Times WhatsApp channel)\\n\\nRead More News on\\n\\nRussian military\\n\\nIndian nationals\\n\\nPrime Minister Narendra Modi\\n\\nVladimir Putin\\n\\nForeign Secretary Vinay Kwatra\\n\\nRussian Army\\n\\nIndian Army\\n\\nhemal ashwinbhai mangua\\n\\n(Catch all the Business News, Breaking News, Budget 2024 Events and Latest News Updates on The Economic Times.)\\n\\nSubscribe to The Economic Times Prime and read the ET ePaper online.\\n\\n...more\\n\\nless\\n\\nPrime Exclusives\\n\\nInvestment Ideas\\n\\nStock Report Plus\\n\\nePaper\\n\\nWealth Edition\\n\\nWhy now is the time to take a long, hard look at your investment portfolio\\n\\nHow Sebi orders fared before SAT\\n\\nWhy leading doctors, scientists pin hope on green jackfruit to fight fatty liver and cancer\\n\\nValue guru Raamdeo seeks meaning of ‘eternity investing’ in the time of momentum\\n\\nWhat Boeing’s ‘guilty’ plea means for AI, Akasa, SpiceJet et al.\\n\\nHow to solve the unreliability problem messing up India’s jobs data\\n\\n1\\n\\n2\\n\\n3\\n\\nView all Stories\\n\\nVideos\\n\\nWe never wanted them: Russia on Indians in Russian Army\\n\\n\\'Russia doesn\\'t strike civilian targets in Ukraine\\'\\n\\nRussia-Ukraine war: \\'Killing of innocents is not acceptable\\'\\n\\nPM shares Austria\\'s Vande Mataram rendition\\n\\n‘Shall touch your feet, please finish on time’, Nitish raps official\\n\\nSindhi activist protests at UN for missing Hindu girl\\n\\nXiaomi India turns 10: Highlight of gadgets on display\\n\\nKathua terror attack: \\'Art 370 had nothing to do with militancy\\'\\n\\n\\'I\\'m sorry…\\': Rishi Sunak apologises in UK Parl for election losses\\n\\nBMC razes Juhu bar linked to Worli hit-and-run case\\n\\n1\\n\\n2\\n\\n3\\n\\nLatest from ET\\n\\nNo payin’, no gain: Airlines have changed rules of fare play\\n\\nFour PSU banks pay Rs 6,481 cr dividend to govt\\n\\nCan budget counter drop in FDI flows into India?\\n\\nTop Trending News\\n\\nIndia vs Zimbabwe T20 Live ScoreIndia vs Zimbabwe Pitch ReportStock Market CrashTNEA 2024 Rank List\\n\\nSensex TodayUnion Budget 2024 Live UpdatesTCS Q2 EarningsHNIs Private Credit Fund\\n\\nF&O Ban ListF&O Stocks to Buy TodayStocks in NewsRaymond Demerger\\n\\nF&O RadarGIFT NiftyBMW Hit and Run CaseICC Player of the Month\\n\\nAjay Kumar Growth FundBoeing 737 MaxMumbai RainsIND vs ZIM T20 Live Score\\n\\nCUET UG 2024 Answer KeysIndia vs Zimbabwe T20 Live StreamingIndia vs Zimbabwe Harare Pitch ReportJohn Cena Retirement\\n\\nToday NewsBudget 2024 DateNEET-UG 2024 CounselingVictoria Starmer\\n\\nSwati Maliwal Assault CaseNEET PG 2024 New Date\\n\\nPopular in India\\n\\nHow drugs were used to spread HIV among 800+ students in Tripura\\n\\nMaharashtra council passes resolution to rename seven local train stations\\n\\nBengaluru Police file FIR against Virat Kohli-owned pub on MG Road\\n\\nIndian companies participating in construction of nuclear power plant in Bangladesh: Russia\\n\\nPM Modi receives Russia\\'s highest civilian honour, Order of St Andrew the Apostle\\n\\nTrending Now\\n\\nMORE\\n\\nIndia vs Zimbabwe 3rd T20 Live Score\\n\\nIndia vs Zimbabwe Live Streaming\\n\\nIndia vs Zimbabwe Pitch Report\\n\\nRajasthan Budget 2024\\n\\nTNEA 2024 Rank List\\n\\nBudget 2024 Live Updates\\n\\nSensex Today\\n\\nUnnao Bus Accident\\n\\nFrance vs Spain\\n\\nICC Player of the Month\\n\\nDavid Warner Retirement\\n\\nEarth Inner Core\\n\\nMaharaja OTT Release\\n\\nBoeing Plea\\n\\nFrance Violence\\n\\nBudget 2024 Date\\n\\nJohn Cena Retirement\\n\\nHot on Web\\n\\nMORE\\n\\nIndia vs Zimbabwe 3rd T20 Live Score\\n\\nIndia vs Zimbabwe Live Telecast\\n\\nIndia vs Zimbabwe Pitch Report\\n\\nRajasthan Budget 2024\\n\\nTNEA 2024 Rank List\\n\\nSensex Crash\\n\\nBudget 2024 Live Updates\\n\\nSensex Today\\n\\nUnnao Bus Accident\\n\\nEuro 2024 France vs Spain\\n\\nBMW Hit and Run Case Update\\n\\nMirzapur 3 Ending Explained\\n\\nMaharaja OTT Release\\n\\nBengaluru Airport Bomb Threat\\n\\nBudget Date Announced\\n\\nJohn Cena Retirement\\n\\nToday News\\n\\nIn Case you missed it\\n\\nMORE\\n\\nIndia vs Zimbabwe 3rd T20 Live Score\\n\\nIndia vs Zimbabwe Live Streaming\\n\\nIndia vs Zimbabwe Pitch Report\\n\\nRajasthan Budget\\n\\nSensex Crash\\n\\nTNEA 2024 Rank List\\n\\nBudget 2024 Live Updates\\n\\nSensex Today\\n\\nUnnao Bus Accident\\n\\nFrance vs Spain\\n\\nBMW Hit and Run Case\\n\\nICC Player of the Month\\n\\nMumbai Rains\\n\\nMaharaja OTT Release Date\\n\\nFrance Violence\\n\\nSensex Today\\n\\nBudget 2024 Date\\n\\nTop Calculators\\n\\nMORE\\n\\nStandard Deviation Calculator\\n\\nIncome Tax Calculator\\n\\nAge Calculator\\n\\nTime Calculator\\n\\nBMI Calculator\\n\\nGPA Calculator\\n\\nStatistics Calculator\\n\\nFraction Calculator\\n\\nDiabetes Risk Calculator\\n\\nDate Calculator\\n\\nLog Calculator\\n\\nMORE\\n\\nTop Definitions\\n\\nStocks\\n\\nMarketing\\n\\nDepreciation\\n\\nGross Domestic Product\\n\\nBank Reconciliation\\n\\nMORE\\n\\nMost Searched IFSC Codes\\n\\nBank Of India\\n\\nCanara Bank\\n\\nAxis Bank\\n\\nIndia Post Payment Bank Post Office Savings Bank All India Single Ifsc Delhi Delhi IPOS0000DOP\\n\\nBank Of Baroda Uttar Pradesh\\n\\nMORE\\n\\nTop Story Listing\\n\\nAadhaar Card\\n\\nDow Jones\\n\\nTwitter Down\\n\\nSnapchat Update\\n\\nGmail Down\\n\\nMORE\\n\\nTop Searched Companies\\n\\nIRB Infra Dev. Share Price\\n\\nBPCL Share Price\\n\\nPC Jeweller Share Price\\n\\nRail Vikas Nigam Share Price\\n\\nAlok Industries Share Price\\n\\nJubilant Food Share Price\\n\\nBiocon Share Price\\n\\nJP Power Share Price\\n\\nTata Elxsi Share Price\\n\\nBHEL Share Price\\n\\nMORE\\n\\nTop Prime Articles\\n\\n5 Weekend Must Reads Featuring India Taking On The Us In Automobile Reliability\\n\\nIn 4 Stories Cognizants Tumultuous Journey\\n\\nAmazons Aim To Rule Air Cargo Just Got Wings In India Why This Is Only The Start Of A Long Haul\\n\\nSilent Epidemic The Health Catastrophe India Is Not Talking About And Why That Should Change\\n\\nThe Worlds Most Important Box In 3 Stories\\n\\nWhy A Minority Investor Wants To Stall The Long Pending Indiabulls Real Estate Embassy Group Merger\\n\\nDragons Prying Eye In The Sky Why Balloon Gate Should Be On Top Of Indias List Of Worries\\n\\nHow Banks Ceded The Upi Space And Control To Phonepe And Google Pay\\n\\nMacquaries Double Upgrade Has Sparked Some Interest In Paytm Stock Should You Buy\\n\\nFuture Locked In A Crypt Understanding The Crackdown On Crypto Amid A Hope For A Global Framework\\n\\nMORE\\n\\nTop Slideshow\\n\\nBudget 2023 Tweaked The New Income Tax Slabs\\n\\nPackaged Fruit Juice\\n\\nGujarat Ambuja Exports\\n\\nPackaged Fruit Juice\\n\\nBudget 2023 Tweaked The New Income Tax Slabs\\n\\nRajratan Global Wire\\n\\nGujarat Ambuja Exports\\n\\nPeaking Out\\n\\nPeaking Out\\n\\nRajratan Global Wire\\n\\nMORE\\n\\nTop Videos\\n\\nNow Reach Delhi To Jaipur Within 2 3 Hours Courtesy Delhi Mumbai Expressway\\n\\nWhy Boycott Germany Is Trending Here Is All You Need To Know\\n\\nFall In Adani Group Stocks Decoded\\n\\nKhalistani Separatist Amritpal Singh Gives Ultimatum To Punjab Govt Cancel Fir In An Hour Or Else\\n\\nRussia Ukraine War Ukrainian Soldiers Call For More Western Weapons\\n\\nNew Zealand Earthquake Of Magnitude 6 1 Hits Northwest Of Wellington Amidst Cyclone Gabrielle\\n\\nChatgpt Vs Google Bard How Do These Two Ai Chatbots Stack Up Against Each Other\\n\\nAir India Boeing Deal Us President Biden Speaks With Pm Modi After Landmark Agreement Of 220 Aircraft\\n\\nExplained Us New Move On H1b And L1 Visas\\n\\nSensex Surges Over 200 Points Nifty50 Above 10350\\n\\nMORE\\n\\nPrivate Companies\\n\\nBl Financial Services Private Limited\\n\\nShreyash Retail Private Limited\\n\\nGlobal India Services Private Limited\\n\\nStatestreet Hcl Services India Private Limited\\n\\nRenatus Wellness Private Limited\\n\\nLatest News\\n\\nSurging: Russia-India trade USD 57 bn in 2023; goes up 23 pc in Jan-April 2024\\n\\nPower Grid Corp board approves plan to raise borrowing limit to Rs 15k cr for FY25\\n\\nREC raises 31.96 billion Japanese yen through 5-year green loan\\n\\nWill Spanish captain be able to play in Euro 2024 final after freak injury? Here\\'s what we know so far\\n\\nProposed IBC amendment on guarantees to aid NPA recovery: India Ratings\\n\\nSpongeBob SquarePants\\' 25th Anniversary: Everything we know so far\\n\\nDespicable Me 5: Director Chris Renaud reveals whether the next chapter Is happening\\n\\nCan Joe Biden serve another term? News anchor who interviewed him says “I don’t think so”\\n\\nOver 17 opposition MPs write to Railway Minister highlighting work stress among loco pilots\\n\\nDelhi: Over one lakh children failed in class IX, 50000 in Xl in Delhi govt schools\\n\\nWho was William Stampfl? How his body was found on Mount Huascaran 20 years after he went missing in avalanche?\\n\\nF-16s\\' arrival not a silver bullet for Ukraine in war with Russia\\n\\nRBI liberalises account opening rules at IFSCs\\n\\nPromoters to sell 7.85% in Glenmark Life through OFS\\n\\nWhat happened on Royal Caribbean Cruise after a passenger talked about Titanic? Is it prohibited to mention an ill-fated ship?\\n\\nFollow us on:\\n\\nDownload ET App:\\n\\nsubscribe to our newsletter\\n\\nCopyright © 2024 Bennett, Coleman & Co. Ltd. All rights reserved. For reprint rights: \\n\\nTimes Syndication Service\\n\\nFind this comment offensive?\\n\\nChoose your reason below and click on the Report button. This will alert our moderators to take action\\n\\nName\\n\\nReason for reporting:\\n\\nFoul language\\n\\nSlanderous\\n\\nInciting hatred against a certain community\\n\\nOthers\\n\\nYour Reason has been Reported to the admin.\\n\\nTo post this comment you must\\n\\nLog In/Connect with:\\n\\nThe Economic Times\\n\\nor\\n\\nFill in your details:\\n\\nWill be displayed\\n\\nWill not be displayed\\n\\nWill be displayed\\n\\nShare this Comment:\\n\\nStories you might be interested in\\n\\nSubscribe to our\\n\\nET Investment Opportunities')"
            ]
          },
          "metadata": {},
          "execution_count": 140
        }
      ]
    },
    {
      "cell_type": "markdown",
      "id": "9f51a5bd",
      "metadata": {
        "id": "9f51a5bd"
      },
      "source": [
        "### (2) Split data to create chunks"
      ]
    },
    {
      "cell_type": "code",
      "execution_count": null,
      "id": "054a6361",
      "metadata": {
        "id": "054a6361"
      },
      "outputs": [],
      "source": [
        "text_splitter = RecursiveCharacterTextSplitter(\n",
        "    chunk_size=1000,\n",
        "    chunk_overlap=200\n",
        ")\n",
        "\n",
        "# As data is of type documents we can directly use split_documents over split_text in order to get the chunks.\n",
        "docs = text_splitter.split_documents(data)"
      ]
    },
    {
      "cell_type": "code",
      "source": [
        "data[0]"
      ],
      "metadata": {
        "colab": {
          "base_uri": "https://localhost:8080/"
        },
        "id": "2OqKkjyIHl7s",
        "outputId": "bc109802-e94c-4fe3-864e-2c5575ba48e5"
      },
      "id": "2OqKkjyIHl7s",
      "execution_count": null,
      "outputs": [
        {
          "output_type": "execute_result",
          "data": {
            "text/plain": [
              "Document(metadata={'source': 'https://www.deccanherald.com/india/no-disagreements-between-modi-putin-at-meet-kremlin-3100152'}, page_content='Newsletters\\n\\nePaper\\n\\nSign in\\n\\nHome\\n\\nIndia\\n\\nKarnataka\\n\\nOpinion\\n\\nWorld\\n\\nBusiness\\n\\nSports\\n\\nEntertainment\\n\\nVideo\\n\\nDH Specials\\n\\nNews Shots\\n\\nExplainers\\n\\nBengaluru\\n\\nScience\\n\\nTrending\\n\\nPhotos\\n\\nBrandspot\\n\\nNewsletters\\n\\nHome\\n\\nNews Shots\\n\\nTrending\\n\\nMenu\\n\\nADVERTISEMENT\\n\\nADVERTISEMENT\\n\\nADVERTISEMENT\\n\\nHome\\n\\nindia\\n\\nNo disagreements between Modi-Putin at meet: Kremlin\\n\\nKremlin spokesman Dmitry Peskov told reporters a decision to cancel a session of talks between Russian and Indian delegations was taken for scheduling reasons and because the entire agenda had been covered.\\n\\nReuters\\n\\nLast Updated : 10 July 2024, 11:48 IST\\n\\nFollow Us :\\n\\nComments\\n\\nMoscow: The Kremlin denied on Wednesday that there had been any disagreement between President Vladimir Putin and Indian Prime Minister Narendra Modi at their talks in Moscow this week.\\n\\nModi delivered an implicit rebuke to Putin on Tuesday, the day after a lethal strike on a children\\'s hospital in the Ukrainian capital Kyiv, when he told him that the death of innocent children was painful and terrifying.\\n\\nKremlin spokesman Dmitry Peskov told reporters a decision to cancel a session of talks between Russian and Indian delegations was taken for scheduling reasons and because the entire agenda had been covered.\\n\\n\"This has absolutely nothing to do with any disagreements or problematic situations,\" he said.\\n\\nADVERTISEMENT\\n\\nPublished 10 July 2024, 11:48 IST\\n\\nIndia News\\n\\nWorld news\\n\\nRussia\\n\\nNarendra Modi\\n\\nVladimir Putin\\n\\nFollow us on : Follow Us\\n\\nADVERTISEMENT\\n\\nADVERTISEMENT\\n\\nIndia\\n\\nElections 2024\\n\\nSouth\\n\\nNorth\\n\\nWest\\n\\nEast & North East\\n\\nOpinion\\n\\nEditorial\\n\\nSpeak Out\\n\\nCartoon\\n\\nKarnataka\\n\\nBengaluru\\n\\nSports\\n\\nCricket\\n\\nFootball\\n\\nTennis\\n\\nF1 Racing\\n\\nEntertainment\\n\\nMovie Reviews\\n\\nPhotos\\n\\nSpecials\\n\\nDH on Sunday\\n\\nDH on Saturday\\n\\n#Elections2024\\n\\nExplainers\\n\\nExplained | How the Mumbai police nabbed Shiv Sena leader\\'s son Mihir Shah, accused in Worli hit-and-run case\\n\\nExplained | When is Paris 2024 Olympics and how is France preparing?\\n\\nExplained | How were Indians duped into fighting for Russia in the Ukraine war?\\n\\nExplained | Iran\\'s president-elect has limited ability to bring change\\n\\nWhat\\'s Brewing\\n\\nVictim of witch-hunt, falsely implicated in motivated case: Kejriwal to Delhi HC\\n\\nWhether PM visits Manipur non-issue, we are in touch with him 24/7: CM\\n\\nOdissi dancer denies reports of withdrawing case against Bengal Governor\\n\\nIn Austria, PM Modi reaffirms that \\'this is not time for war\\'\\n\\nLatest News\\n\\nKapil Sibal slams Dhankhar for \\'frequently interrupting\\' members in Rajya Sabha\\n\\nTerror attacks in J&K point at Centre\\'s \\'absolute failure\\' on security front: Ghulam Ahmad Mir\\n\\nDelhi CM Arvind Kejriwal directly enjoyed excise \\'scam\\' kickbacks: ED\\n\\nDomestic air passenger traffic slips by 3.7%\\xa0 in June: ICRA\\n\\nThe Printers Mysore Ltd\\n\\nPrajavani\\n\\nSudha\\n\\nMayura\\n\\nExam Mastermind\\n\\nEpaper\\n\\nClassifieds\\n\\nContact\\n\\nAbout\\n\\nPrivacy Policy\\n\\nTerms\\n\\nDisclaimer\\n\\nGrievance Redressal')"
            ]
          },
          "metadata": {},
          "execution_count": 142
        }
      ]
    },
    {
      "cell_type": "code",
      "execution_count": null,
      "id": "379e3d94",
      "metadata": {
        "colab": {
          "base_uri": "https://localhost:8080/"
        },
        "id": "379e3d94",
        "outputId": "14339da4-482e-4951-8e9b-56093b05754e"
      },
      "outputs": [
        {
          "output_type": "execute_result",
          "data": {
            "text/plain": [
              "36"
            ]
          },
          "metadata": {},
          "execution_count": 143
        }
      ],
      "source": [
        "len(docs)"
      ]
    },
    {
      "cell_type": "code",
      "execution_count": null,
      "id": "637ee7ae",
      "metadata": {
        "scrolled": true,
        "colab": {
          "base_uri": "https://localhost:8080/"
        },
        "id": "637ee7ae",
        "outputId": "82570ac9-5f28-44da-8b71-f53898469020"
      },
      "outputs": [
        {
          "output_type": "execute_result",
          "data": {
            "text/plain": [
              "{'source': 'https://www.deccanherald.com/india/no-disagreements-between-modi-putin-at-meet-kremlin-3100152'}"
            ]
          },
          "metadata": {},
          "execution_count": 144
        }
      ],
      "source": [
        "docs[1].metadata"
      ]
    },
    {
      "cell_type": "code",
      "source": [
        "len(data)"
      ],
      "metadata": {
        "colab": {
          "base_uri": "https://localhost:8080/"
        },
        "id": "7nlYGyAQVeOA",
        "outputId": "c53f9b3b-903a-46fc-8508-dcc6d68b56d6"
      },
      "id": "7nlYGyAQVeOA",
      "execution_count": null,
      "outputs": [
        {
          "output_type": "execute_result",
          "data": {
            "text/plain": [
              "3"
            ]
          },
          "metadata": {},
          "execution_count": 145
        }
      ]
    },
    {
      "cell_type": "markdown",
      "id": "9e35a876",
      "metadata": {
        "id": "9e35a876"
      },
      "source": [
        "### (3) Create embeddings for these chunks and save them to FAISS index"
      ]
    },
    {
      "cell_type": "code",
      "source": [
        "pip install tiktoken"
      ],
      "metadata": {
        "colab": {
          "base_uri": "https://localhost:8080/"
        },
        "id": "QTJUAdi0JwX4",
        "outputId": "33488b65-b97b-4cdc-cdfa-0af0e2781c93"
      },
      "id": "QTJUAdi0JwX4",
      "execution_count": null,
      "outputs": [
        {
          "output_type": "stream",
          "name": "stdout",
          "text": [
            "Requirement already satisfied: tiktoken in /usr/local/lib/python3.10/dist-packages (0.7.0)\n",
            "Requirement already satisfied: regex>=2022.1.18 in /usr/local/lib/python3.10/dist-packages (from tiktoken) (2024.5.15)\n",
            "Requirement already satisfied: requests>=2.26.0 in /usr/local/lib/python3.10/dist-packages (from tiktoken) (2.31.0)\n",
            "Requirement already satisfied: charset-normalizer<4,>=2 in /usr/local/lib/python3.10/dist-packages (from requests>=2.26.0->tiktoken) (3.3.2)\n",
            "Requirement already satisfied: idna<4,>=2.5 in /usr/local/lib/python3.10/dist-packages (from requests>=2.26.0->tiktoken) (3.7)\n",
            "Requirement already satisfied: urllib3<3,>=1.21.1 in /usr/local/lib/python3.10/dist-packages (from requests>=2.26.0->tiktoken) (2.0.7)\n",
            "Requirement already satisfied: certifi>=2017.4.17 in /usr/local/lib/python3.10/dist-packages (from requests>=2.26.0->tiktoken) (2024.6.2)\n"
          ]
        }
      ]
    },
    {
      "cell_type": "code",
      "source": [
        "!pip install faiss-cpu"
      ],
      "metadata": {
        "colab": {
          "base_uri": "https://localhost:8080/"
        },
        "id": "yOVCqKdGKNdD",
        "outputId": "a9ac3bd0-9045-4d57-90c9-0a51ed1a6317"
      },
      "id": "yOVCqKdGKNdD",
      "execution_count": null,
      "outputs": [
        {
          "output_type": "stream",
          "name": "stdout",
          "text": [
            "Requirement already satisfied: faiss-cpu in /usr/local/lib/python3.10/dist-packages (1.8.0.post1)\n",
            "Requirement already satisfied: numpy<2.0,>=1.0 in /usr/local/lib/python3.10/dist-packages (from faiss-cpu) (1.25.2)\n",
            "Requirement already satisfied: packaging in /usr/local/lib/python3.10/dist-packages (from faiss-cpu) (24.1)\n"
          ]
        }
      ]
    },
    {
      "cell_type": "code",
      "source": [
        "import time\n",
        "import faiss\n",
        "from langchain.embeddings import OpenAIEmbeddings\n",
        "from langchain.vectorstores import FAISS"
      ],
      "metadata": {
        "id": "otR_xo0aKF5I"
      },
      "id": "otR_xo0aKF5I",
      "execution_count": null,
      "outputs": []
    },
    {
      "cell_type": "code",
      "source": [
        "pip install transformers sentence-transformers\n"
      ],
      "metadata": {
        "colab": {
          "base_uri": "https://localhost:8080/"
        },
        "collapsed": true,
        "id": "wjOsWo17P3KK",
        "outputId": "8b54f334-66d4-4a50-b953-e28c926798b4"
      },
      "id": "wjOsWo17P3KK",
      "execution_count": null,
      "outputs": [
        {
          "output_type": "stream",
          "name": "stdout",
          "text": [
            "Requirement already satisfied: transformers in /usr/local/lib/python3.10/dist-packages (4.41.2)\n",
            "Collecting sentence-transformers\n",
            "  Downloading sentence_transformers-3.0.1-py3-none-any.whl (227 kB)\n",
            "\u001b[2K     \u001b[90m━━━━━━━━━━━━━━━━━━━━━━━━━━━━━━━━━━━━━━━━\u001b[0m \u001b[32m227.1/227.1 kB\u001b[0m \u001b[31m6.7 MB/s\u001b[0m eta \u001b[36m0:00:00\u001b[0m\n",
            "\u001b[?25hRequirement already satisfied: filelock in /usr/local/lib/python3.10/dist-packages (from transformers) (3.15.4)\n",
            "Requirement already satisfied: huggingface-hub<1.0,>=0.23.0 in /usr/local/lib/python3.10/dist-packages (from transformers) (0.23.4)\n",
            "Requirement already satisfied: numpy>=1.17 in /usr/local/lib/python3.10/dist-packages (from transformers) (1.25.2)\n",
            "Requirement already satisfied: packaging>=20.0 in /usr/local/lib/python3.10/dist-packages (from transformers) (24.1)\n",
            "Requirement already satisfied: pyyaml>=5.1 in /usr/local/lib/python3.10/dist-packages (from transformers) (6.0.1)\n",
            "Requirement already satisfied: regex!=2019.12.17 in /usr/local/lib/python3.10/dist-packages (from transformers) (2024.5.15)\n",
            "Requirement already satisfied: requests in /usr/local/lib/python3.10/dist-packages (from transformers) (2.31.0)\n",
            "Requirement already satisfied: tokenizers<0.20,>=0.19 in /usr/local/lib/python3.10/dist-packages (from transformers) (0.19.1)\n",
            "Requirement already satisfied: safetensors>=0.4.1 in /usr/local/lib/python3.10/dist-packages (from transformers) (0.4.3)\n",
            "Requirement already satisfied: tqdm>=4.27 in /usr/local/lib/python3.10/dist-packages (from transformers) (4.66.4)\n",
            "Requirement already satisfied: torch>=1.11.0 in /usr/local/lib/python3.10/dist-packages (from sentence-transformers) (2.3.0+cu121)\n",
            "Requirement already satisfied: scikit-learn in /usr/local/lib/python3.10/dist-packages (from sentence-transformers) (1.2.2)\n",
            "Requirement already satisfied: scipy in /usr/local/lib/python3.10/dist-packages (from sentence-transformers) (1.11.4)\n",
            "Requirement already satisfied: Pillow in /usr/local/lib/python3.10/dist-packages (from sentence-transformers) (9.4.0)\n",
            "Requirement already satisfied: fsspec>=2023.5.0 in /usr/local/lib/python3.10/dist-packages (from huggingface-hub<1.0,>=0.23.0->transformers) (2023.6.0)\n",
            "Requirement already satisfied: typing-extensions>=3.7.4.3 in /usr/local/lib/python3.10/dist-packages (from huggingface-hub<1.0,>=0.23.0->transformers) (4.12.2)\n",
            "Requirement already satisfied: sympy in /usr/local/lib/python3.10/dist-packages (from torch>=1.11.0->sentence-transformers) (1.12.1)\n",
            "Requirement already satisfied: networkx in /usr/local/lib/python3.10/dist-packages (from torch>=1.11.0->sentence-transformers) (3.3)\n",
            "Requirement already satisfied: jinja2 in /usr/local/lib/python3.10/dist-packages (from torch>=1.11.0->sentence-transformers) (3.1.4)\n",
            "Collecting nvidia-cuda-nvrtc-cu12==12.1.105 (from torch>=1.11.0->sentence-transformers)\n",
            "  Using cached nvidia_cuda_nvrtc_cu12-12.1.105-py3-none-manylinux1_x86_64.whl (23.7 MB)\n",
            "Collecting nvidia-cuda-runtime-cu12==12.1.105 (from torch>=1.11.0->sentence-transformers)\n",
            "  Using cached nvidia_cuda_runtime_cu12-12.1.105-py3-none-manylinux1_x86_64.whl (823 kB)\n",
            "Collecting nvidia-cuda-cupti-cu12==12.1.105 (from torch>=1.11.0->sentence-transformers)\n",
            "  Using cached nvidia_cuda_cupti_cu12-12.1.105-py3-none-manylinux1_x86_64.whl (14.1 MB)\n",
            "Collecting nvidia-cudnn-cu12==8.9.2.26 (from torch>=1.11.0->sentence-transformers)\n",
            "  Using cached nvidia_cudnn_cu12-8.9.2.26-py3-none-manylinux1_x86_64.whl (731.7 MB)\n",
            "Collecting nvidia-cublas-cu12==12.1.3.1 (from torch>=1.11.0->sentence-transformers)\n",
            "  Using cached nvidia_cublas_cu12-12.1.3.1-py3-none-manylinux1_x86_64.whl (410.6 MB)\n",
            "Collecting nvidia-cufft-cu12==11.0.2.54 (from torch>=1.11.0->sentence-transformers)\n",
            "  Using cached nvidia_cufft_cu12-11.0.2.54-py3-none-manylinux1_x86_64.whl (121.6 MB)\n",
            "Collecting nvidia-curand-cu12==10.3.2.106 (from torch>=1.11.0->sentence-transformers)\n",
            "  Using cached nvidia_curand_cu12-10.3.2.106-py3-none-manylinux1_x86_64.whl (56.5 MB)\n",
            "Collecting nvidia-cusolver-cu12==11.4.5.107 (from torch>=1.11.0->sentence-transformers)\n",
            "  Using cached nvidia_cusolver_cu12-11.4.5.107-py3-none-manylinux1_x86_64.whl (124.2 MB)\n",
            "Collecting nvidia-cusparse-cu12==12.1.0.106 (from torch>=1.11.0->sentence-transformers)\n",
            "  Using cached nvidia_cusparse_cu12-12.1.0.106-py3-none-manylinux1_x86_64.whl (196.0 MB)\n",
            "Collecting nvidia-nccl-cu12==2.20.5 (from torch>=1.11.0->sentence-transformers)\n",
            "  Using cached nvidia_nccl_cu12-2.20.5-py3-none-manylinux2014_x86_64.whl (176.2 MB)\n",
            "Collecting nvidia-nvtx-cu12==12.1.105 (from torch>=1.11.0->sentence-transformers)\n",
            "  Using cached nvidia_nvtx_cu12-12.1.105-py3-none-manylinux1_x86_64.whl (99 kB)\n",
            "Requirement already satisfied: triton==2.3.0 in /usr/local/lib/python3.10/dist-packages (from torch>=1.11.0->sentence-transformers) (2.3.0)\n",
            "Collecting nvidia-nvjitlink-cu12 (from nvidia-cusolver-cu12==11.4.5.107->torch>=1.11.0->sentence-transformers)\n",
            "  Downloading nvidia_nvjitlink_cu12-12.5.82-py3-none-manylinux2014_x86_64.whl (21.3 MB)\n",
            "\u001b[2K     \u001b[90m━━━━━━━━━━━━━━━━━━━━━━━━━━━━━━━━━━━━━━━━\u001b[0m \u001b[32m21.3/21.3 MB\u001b[0m \u001b[31m39.1 MB/s\u001b[0m eta \u001b[36m0:00:00\u001b[0m\n",
            "\u001b[?25hRequirement already satisfied: charset-normalizer<4,>=2 in /usr/local/lib/python3.10/dist-packages (from requests->transformers) (3.3.2)\n",
            "Requirement already satisfied: idna<4,>=2.5 in /usr/local/lib/python3.10/dist-packages (from requests->transformers) (3.7)\n",
            "Requirement already satisfied: urllib3<3,>=1.21.1 in /usr/local/lib/python3.10/dist-packages (from requests->transformers) (2.0.7)\n",
            "Requirement already satisfied: certifi>=2017.4.17 in /usr/local/lib/python3.10/dist-packages (from requests->transformers) (2024.6.2)\n",
            "Requirement already satisfied: joblib>=1.1.1 in /usr/local/lib/python3.10/dist-packages (from scikit-learn->sentence-transformers) (1.4.2)\n",
            "Requirement already satisfied: threadpoolctl>=2.0.0 in /usr/local/lib/python3.10/dist-packages (from scikit-learn->sentence-transformers) (3.5.0)\n",
            "Requirement already satisfied: MarkupSafe>=2.0 in /usr/local/lib/python3.10/dist-packages (from jinja2->torch>=1.11.0->sentence-transformers) (2.1.5)\n",
            "Requirement already satisfied: mpmath<1.4.0,>=1.1.0 in /usr/local/lib/python3.10/dist-packages (from sympy->torch>=1.11.0->sentence-transformers) (1.3.0)\n",
            "Installing collected packages: nvidia-nvtx-cu12, nvidia-nvjitlink-cu12, nvidia-nccl-cu12, nvidia-curand-cu12, nvidia-cufft-cu12, nvidia-cuda-runtime-cu12, nvidia-cuda-nvrtc-cu12, nvidia-cuda-cupti-cu12, nvidia-cublas-cu12, nvidia-cusparse-cu12, nvidia-cudnn-cu12, nvidia-cusolver-cu12, sentence-transformers\n",
            "Successfully installed nvidia-cublas-cu12-12.1.3.1 nvidia-cuda-cupti-cu12-12.1.105 nvidia-cuda-nvrtc-cu12-12.1.105 nvidia-cuda-runtime-cu12-12.1.105 nvidia-cudnn-cu12-8.9.2.26 nvidia-cufft-cu12-11.0.2.54 nvidia-curand-cu12-10.3.2.106 nvidia-cusolver-cu12-11.4.5.107 nvidia-cusparse-cu12-12.1.0.106 nvidia-nccl-cu12-2.20.5 nvidia-nvjitlink-cu12-12.5.82 nvidia-nvtx-cu12-12.1.105 sentence-transformers-3.0.1\n"
          ]
        }
      ]
    },
    {
      "cell_type": "code",
      "source": [
        "from sentence_transformers import SentenceTransformer\n",
        "\n",
        "# Load a pre-trained model\n",
        "model = SentenceTransformer('all-MiniLM-L6-v2')\n"
      ],
      "metadata": {
        "colab": {
          "base_uri": "https://localhost:8080/"
        },
        "id": "8mS-8slUP7yc",
        "outputId": "25b0255c-2cff-4f46-c843-6f4631cb78be"
      },
      "id": "8mS-8slUP7yc",
      "execution_count": null,
      "outputs": [
        {
          "output_type": "stream",
          "name": "stderr",
          "text": [
            "/usr/local/lib/python3.10/dist-packages/huggingface_hub/file_download.py:1132: FutureWarning: `resume_download` is deprecated and will be removed in version 1.0.0. Downloads always resume when possible. If you want to force a new download, use `force_download=True`.\n",
            "  warnings.warn(\n"
          ]
        }
      ]
    },
    {
      "cell_type": "code",
      "source": [
        "texts = [doc.page_content for doc in data]\n",
        "# Generate embeddings\n",
        "embeddings = model.encode(texts)\n",
        "\n",
        "# Display the embeddings\n",
        "print(embeddings)"
      ],
      "metadata": {
        "colab": {
          "base_uri": "https://localhost:8080/"
        },
        "collapsed": true,
        "id": "_GS21ZQFQG7b",
        "outputId": "28a750a6-4de6-4dbd-ae9c-ebb2d038e523"
      },
      "id": "_GS21ZQFQG7b",
      "execution_count": null,
      "outputs": [
        {
          "output_type": "stream",
          "name": "stdout",
          "text": [
            "[[-0.07307539  0.06505676  0.02221289 ... -0.0398837  -0.05369519\n",
            "  -0.03286352]\n",
            " [-0.06298874 -0.02311068 -0.07275425 ... -0.07358043 -0.08779863\n",
            "  -0.03324759]\n",
            " [ 0.01155523 -0.09280917 -0.03517363 ... -0.16054083 -0.01226814\n",
            "   0.02720246]]\n"
          ]
        }
      ]
    },
    {
      "cell_type": "code",
      "source": [
        "#embeddings = OpenAIEmbeddings()"
      ],
      "metadata": {
        "id": "jCpVJHUzPFA_"
      },
      "id": "jCpVJHUzPFA_",
      "execution_count": null,
      "outputs": []
    },
    {
      "cell_type": "code",
      "source": [
        "import numpy as np"
      ],
      "metadata": {
        "id": "1FW9UALIRM3l"
      },
      "id": "1FW9UALIRM3l",
      "execution_count": null,
      "outputs": []
    },
    {
      "cell_type": "code",
      "source": [
        "# Convert embeddings to a numpy array\n",
        "embeddings = np.array(embeddings)\n",
        "\n",
        "# Create a FAISS index\n",
        "dimension = embeddings.shape[1]  # Dimension of the embeddings\n",
        "index = faiss.IndexFlatL2(dimension)  # Use L2 (Euclidean) distance\n",
        "\n",
        "# Add embeddings to the index\n",
        "index.add(embeddings)"
      ],
      "metadata": {
        "id": "b2bYDynvRLwh"
      },
      "id": "b2bYDynvRLwh",
      "execution_count": null,
      "outputs": []
    },
    {
      "cell_type": "code",
      "source": [
        "# Check the number of vectors in the index\n",
        "print(f\"Number of vectors in the index: {index.ntotal}\")"
      ],
      "metadata": {
        "colab": {
          "base_uri": "https://localhost:8080/"
        },
        "id": "JHZZ0D5eRSzp",
        "outputId": "18cc3b9b-28b1-4c63-f34f-87bb79a3bd55"
      },
      "id": "JHZZ0D5eRSzp",
      "execution_count": null,
      "outputs": [
        {
          "output_type": "stream",
          "name": "stdout",
          "text": [
            "Number of vectors in the index: 3\n"
          ]
        }
      ]
    },
    {
      "cell_type": "code",
      "source": [
        "from transformers import pipeline"
      ],
      "metadata": {
        "id": "VVjD95bOT8gC"
      },
      "id": "VVjD95bOT8gC",
      "execution_count": null,
      "outputs": []
    },
    {
      "cell_type": "code",
      "source": [
        "# Generate embeddings using SentenceTransformer\n",
        "model = SentenceTransformer('all-MiniLM-L6-v2')\n",
        "embeddings = model.encode(texts)\n",
        "\n",
        "# Convert embeddings to a numpy array\n",
        "embeddings = np.array(embeddings)\n",
        "\n",
        "# Create a FAISS index\n",
        "dimension = embeddings.shape[1]  # Dimension of the embeddings\n",
        "index = faiss.IndexFlatL2(dimension)  # Use L2 (Euclidean) distance\n",
        "\n",
        "# Add embeddings to the index\n",
        "index.add(embeddings)\n",
        "\n",
        "print(f\"Number of vectors in the index: {index.ntotal}\")"
      ],
      "metadata": {
        "colab": {
          "base_uri": "https://localhost:8080/"
        },
        "id": "c951mwwbVxsK",
        "outputId": "ae691dd8-eb06-4d8c-f3df-eb4b21b18218"
      },
      "id": "c951mwwbVxsK",
      "execution_count": null,
      "outputs": [
        {
          "output_type": "stream",
          "name": "stdout",
          "text": [
            "Number of vectors in the index: 3\n"
          ]
        }
      ]
    },
    {
      "cell_type": "code",
      "source": [
        "\n",
        "def find_answer(question, model, index, texts, k=2):\n",
        "    # Generate embedding for the question\n",
        "    question_embedding = model.encode([question])[0].reshape(1, -1)\n",
        "\n",
        "    # Search the FAISS index\n",
        "    distances, indices = index.search(question_embedding, k)\n",
        "\n",
        "    # Retrieve the most similar documents\n",
        "    nearest_docs = [texts[i] for i in indices[0]]\n",
        "\n",
        "    return nearest_docs, distances"
      ],
      "metadata": {
        "id": "FtEffi2MV8Wg"
      },
      "id": "FtEffi2MV8Wg",
      "execution_count": null,
      "outputs": []
    },
    {
      "cell_type": "code",
      "source": [
        "# Load a pre-trained question-answering model\n",
        "qa_pipeline = pipeline(\"question-answering\")\n",
        "\n",
        "def generate_answer(question, texts, qa_pipeline):\n",
        "    # Use the QA model to generate an answer from the retrieved documents\n",
        "    context = \" \".join(texts)\n",
        "    result = qa_pipeline(question=question, context=context)\n",
        "    return result['answer']"
      ],
      "metadata": {
        "colab": {
          "base_uri": "https://localhost:8080/"
        },
        "id": "7EU93vJ8UEON",
        "outputId": "0cc008f1-28fc-4779-e4fd-839af192bfca"
      },
      "id": "7EU93vJ8UEON",
      "execution_count": null,
      "outputs": [
        {
          "output_type": "stream",
          "name": "stderr",
          "text": [
            "No model was supplied, defaulted to distilbert/distilbert-base-cased-distilled-squad and revision 626af31 (https://huggingface.co/distilbert/distilbert-base-cased-distilled-squad).\n",
            "Using a pipeline without specifying a model name and revision in production is not recommended.\n"
          ]
        }
      ]
    },
    {
      "cell_type": "code",
      "source": [
        "# Example question\n",
        "\n",
        "question1 = \"We are on the same side with the\"\n",
        "\n",
        "# Find the nearest documents\n",
        "nearest_docs, distances = find_answer(question1, model, index, texts)\n",
        "\n",
        "# Generate the answer using the QA pipeline\n",
        "answer = generate_answer(question1, nearest_docs, qa_pipeline)\n",
        "\n",
        "# print(f\"Nearest documents: {nearest_docs}\")\n",
        "print(f\"Distances: {distances}\")\n",
        "print(f\"nearest_docs: {nearest_docs}\")\n",
        "\n",
        "print(f\"Question: {question1}\")\n",
        "\n",
        "print(f\"Answer: {answer}\")\n"
      ],
      "metadata": {
        "colab": {
          "base_uri": "https://localhost:8080/"
        },
        "id": "tsTT2sQBXGZr",
        "outputId": "a1f43b2f-c8b1-4a67-c6b8-7cc5bf52bd28"
      },
      "id": "tsTT2sQBXGZr",
      "execution_count": null,
      "outputs": [
        {
          "output_type": "stream",
          "name": "stdout",
          "text": [
            "Distances: [[1.7347705 1.9129475]]\n",
            "nearest_docs: ['Newsletters\\n\\nePaper\\n\\nSign in\\n\\nHome\\n\\nIndia\\n\\nKarnataka\\n\\nOpinion\\n\\nWorld\\n\\nBusiness\\n\\nSports\\n\\nEntertainment\\n\\nVideo\\n\\nDH Specials\\n\\nNews Shots\\n\\nExplainers\\n\\nBengaluru\\n\\nScience\\n\\nTrending\\n\\nPhotos\\n\\nBrandspot\\n\\nNewsletters\\n\\nHome\\n\\nNews Shots\\n\\nTrending\\n\\nMenu\\n\\nADVERTISEMENT\\n\\nADVERTISEMENT\\n\\nADVERTISEMENT\\n\\nHome\\n\\nindia\\n\\nNo disagreements between Modi-Putin at meet: Kremlin\\n\\nKremlin spokesman Dmitry Peskov told reporters a decision to cancel a session of talks between Russian and Indian delegations was taken for scheduling reasons and because the entire agenda had been covered.\\n\\nReuters\\n\\nLast Updated : 10 July 2024, 11:48 IST\\n\\nFollow Us :\\n\\nComments\\n\\nMoscow: The Kremlin denied on Wednesday that there had been any disagreement between President Vladimir Putin and Indian Prime Minister Narendra Modi at their talks in Moscow this week.\\n\\nModi delivered an implicit rebuke to Putin on Tuesday, the day after a lethal strike on a children\\'s hospital in the Ukrainian capital Kyiv, when he told him that the death of innocent children was painful and terrifying.\\n\\nKremlin spokesman Dmitry Peskov told reporters a decision to cancel a session of talks between Russian and Indian delegations was taken for scheduling reasons and because the entire agenda had been covered.\\n\\n\"This has absolutely nothing to do with any disagreements or problematic situations,\" he said.\\n\\nADVERTISEMENT\\n\\nPublished 10 July 2024, 11:48 IST\\n\\nIndia News\\n\\nWorld news\\n\\nRussia\\n\\nNarendra Modi\\n\\nVladimir Putin\\n\\nFollow us on : Follow Us\\n\\nADVERTISEMENT\\n\\nADVERTISEMENT\\n\\nIndia\\n\\nElections 2024\\n\\nSouth\\n\\nNorth\\n\\nWest\\n\\nEast & North East\\n\\nOpinion\\n\\nEditorial\\n\\nSpeak Out\\n\\nCartoon\\n\\nKarnataka\\n\\nBengaluru\\n\\nSports\\n\\nCricket\\n\\nFootball\\n\\nTennis\\n\\nF1 Racing\\n\\nEntertainment\\n\\nMovie Reviews\\n\\nPhotos\\n\\nSpecials\\n\\nDH on Sunday\\n\\nDH on Saturday\\n\\n#Elections2024\\n\\nExplainers\\n\\nExplained | How the Mumbai police nabbed Shiv Sena leader\\'s son Mihir Shah, accused in Worli hit-and-run case\\n\\nExplained | When is Paris 2024 Olympics and how is France preparing?\\n\\nExplained | How were Indians duped into fighting for Russia in the Ukraine war?\\n\\nExplained | Iran\\'s president-elect has limited ability to bring change\\n\\nWhat\\'s Brewing\\n\\nVictim of witch-hunt, falsely implicated in motivated case: Kejriwal to Delhi HC\\n\\nWhether PM visits Manipur non-issue, we are in touch with him 24/7: CM\\n\\nOdissi dancer denies reports of withdrawing case against Bengal Governor\\n\\nIn Austria, PM Modi reaffirms that \\'this is not time for war\\'\\n\\nLatest News\\n\\nKapil Sibal slams Dhankhar for \\'frequently interrupting\\' members in Rajya Sabha\\n\\nTerror attacks in J&K point at Centre\\'s \\'absolute failure\\' on security front: Ghulam Ahmad Mir\\n\\nDelhi CM Arvind Kejriwal directly enjoyed excise \\'scam\\' kickbacks: ED\\n\\nDomestic air passenger traffic slips by 3.7%\\xa0 in June: ICRA\\n\\nThe Printers Mysore Ltd\\n\\nPrajavani\\n\\nSudha\\n\\nMayura\\n\\nExam Mastermind\\n\\nEpaper\\n\\nClassifieds\\n\\nContact\\n\\nAbout\\n\\nPrivacy Policy\\n\\nTerms\\n\\nDisclaimer\\n\\nGrievance Redressal', 'Benchmarks\\n\\nNifty\\n\\n24,324.45\\n\\n108.75\\n\\nFEATURED FUNDS★★★★★Canara Robeco Flexi Cap Fund Regular-Growth5Y Return19.56 %\\n                Invest Now\\n\\nFEATURED FUNDS★★★★★Canara Robeco Infrastructure Fund Regular-Growth5Y Return29.8 %\\n                Invest Now\\n\\nNews\\n\\nEnglish Edition\\n\\nEnglish Editionहिन्दीગુજરાતીमराठीবাংলাಕನ್ನಡമലയാളംதமிழ்తెలుగు\\n\\nToday\\'s ePaper\\n\\nSubscribe\\n\\nSign In\\n\\nMonsoon Offer is Live\\n\\nHome\\n\\nBUDGET\\'24\\n\\nETPrime\\n\\nMarkets\\n\\nMarket Data\\n\\nNews\\n\\nIndustry\\n\\nRise\\n\\nPolitics\\n\\nWealth\\n\\nMF\\n\\nTech\\n\\nCareers\\n\\nOpinion\\n\\nNRI\\n\\nPanache\\n\\nMore Menu\\n\\nIndia\\n\\nDecoded\\n\\nWeb Stories\\n\\nMorning Brief Podcast\\n\\nNewsblogs\\n\\nEconomy\\n\\nAgriculture\\n\\nFinance\\n\\nForeign Trade\\n\\nIndicators\\n\\nInfrastructure\\n\\nPolicy\\n\\nIndustry\\n\\nPolitics\\n\\nET Explains\\n\\nMore\\n\\nCompany\\n\\nCorporate Trends\\n\\nDefence\\n\\nInternational\\n\\nCanada News\\n\\nUK News\\n\\nUS News\\n\\nUAE\\n\\nSaudi Arabia\\n\\nBusiness\\n\\nWorld News\\n\\nET Evoke\\n\\nElections\\n\\nLok Sabha\\n\\nResults\\n\\nExit Polls\\n\\nKey States\\n\\nConstituencies\\n\\nElectoral Map\\n\\nPoll Schedule\\n\\nAssembly Elections\\n\\nAndhra Pradesh\\n\\nOdisha\\n\\nSikkim\\n\\nArunachal Pradesh\\n\\nSports\\n\\nScience\\n\\nEnvironment\\n\\nET TV\\n\\nLatest News\\n\\nMost Read\\n\\nMost Shared\\n\\nMost Commented\\n\\nBusiness News›\\n\\nNews›\\n\\nIndia›\\n\\nWe never wanted them: Russia on Indians in Russian Army\\n\\nThe Economic Times daily newspaper is available online now.\\n\\nRead Today\\'s Paper\\n\\nWe never wanted them: Russia on Indians in Russian Army\\n\\nSECTIONS\\n\\nWe never wanted them: Russia on Indians in Russian Army\\n\\nPTI\\n\\nRate Story\\n\\nFollow us\\n\\nShare\\n\\nFont Size\\n\\nAbc\\n\\nSmall\\n\\nAbc\\n\\nMedium\\n\\nAbc\\n\\nLarge\\n\\nSave\\n\\nPrint\\n\\nComment\\n\\nSynopsis\\n\\nRussian Charge d\\'affaires Roman Babushkin addressed India\\'s concerns over Indian nationals recruited into the Russian Army, clarifying it\\'s a commercial issue, not military. He assured alignment with India\\'s stance and hopes for a quick resolution. Most Indians, he said, work illegally on tourist visas for financial gain. Prime Minister Narendra Modi raised the issue with President Vladimir Putin during his recent visit, leading to assurances for their early discharge and return. This highlights ongoing diplomatic efforts amid the Russia-Ukraine conflict to prevent further recruitment and ensure the safety of affected individuals.\\n\\nRussia on Wednesday said it is hoping for quick resolution of the issue relating to India\\'s call for return of Indians recruited into the \\n\\nRussian Army as support staff and asserted their recruitment was purely a commercial matter. In first comments on the issue from the Russian government, Russia\\'s Charge d\\'affaires Roman Babushkin said Moscow never wanted the Indians to be part of its Army and their number is insignificant in the context of the conflict.\\n\\n\"We are on the same side with the Indian government on the issue... We hope that the issue will be resolved soon,\" he said at a media briefing while responding to a question.\\n\\nBabushkin\\'s remarks came a day after Russia promised to ensure early release and return to home of the\\n\\nIndian nationals working in the\\n\\nRussian military as support staff after\\n\\nPrime Minister Narendra Modi \"very strongly\" raised the issue with President\\n\\nVladimir Putin.\\n\\nBabushkin noted that the issue should not be politicised.\\n\\n\"Let us be very clear, we have never wanted Indians to be part of the Russian Army. You would never see any announcement by Russian authorities on this,\" he said.\\n\\nThe Russian diplomat said most of the Indians were recruited under a commercial framework as they wanted to \"make money\".\\n\\nThe number of Indians -- 50, 60 or 100 people -- does not make any significance in terms of the wider conflict.\\n\\n\"They are there purely for commercial reasons and we did not want to recruit them,\" he said.\\n\\nBabushkin said most of the Indians recruited as support staff are working illegally as they do not have appropriate visas to work.\\n\\nHe said most of them came to Russia on tourist visas.\\n\\nAsked if the families of those killed would be given compensation and Russian citizenship, Babushkin said that it \"should happen anyway as per the contractual obligations\".\\n\\nOn Tuesday,\\n\\nForeign Secretary Vinay Kwatra said in Moscow that the Russian side promised early discharge of all Indian nationals from the service of the Russian Army.\\n\\n\"The prime minister strongly raised the issue of early discharge of Indian nationals who have been misled into the service of the Russian Army. This was taken up strongly by the prime minister and the Russian side promised early discharge of all Indian nationals,\" he said.\\n\\nIt is learnt that Modi raised the issue during his informal talks with Putin over dinner at the Russian leader\\'s dacha or country home on Monday evening.\\n\\nKwatra said the two sides will work on how expeditiously the Indians can be brought back home.\\n\\nLast month, the Ministry of External Affairs (MEA) said the issue of Indian nationals serving with the Russian Army remains a matter of \"utmost concern\" and demanded action from Moscow over it.\\n\\nOn June 11, India said two Indian nationals, who were recruited by the Russian Army, had recently been killed in the ongoing\\n\\nRussia-Ukraine conflict, which took the number of such deaths to four.\\n\\nFollowing the deaths of two Indians, the MEA demanded a \"verified stop\" to further recruitment of Indian nationals by the Russian Army.\\n\\nIn a strongly-worded statement, it said India demanded that there be a \"verified stop to any further recruitment of Indian nationals by the Russian Army and that such activities would not be in \"consonance with our partnership\".\\n\\nIn March, 30-year-old Hyderabad resident Mohammed Asfan succumbed to injuries sustained while serving with Russian troops on the frontlines with Ukraine.\\n\\nIn February,\\n\\nHemal Ashwinbhai Mangua, a 23-year-old resident of Surat in Gujarat, died in a Ukrainian air strike while serving as a \"security helper\" in the Donetsk region.\\n\\nModi was on a two-day high-profile visit to Russia from Monday to hold the 22nd\\n\\nIndia-Russia annual summit with Putin.\\n\\nEconomic Times WhatsApp channel)\\n\\nIn Video: \\n                \\n\\n\\'Russian Army doesn\\'t need Indians\\': Russia’s Charge d’Affaires assures action on \\'fake\\' recruitment\\n\\nRead More News on\\n\\nRussian military\\n\\nIndian nationals\\n\\nPrime Minister Narendra Modi\\n\\nVladimir Putin\\n\\nForeign Secretary Vinay Kwatra\\n\\nRussian Army\\n\\nIndian Army\\n\\nhemal ashwinbhai mangua\\n\\n(Catch all the Business News, Breaking News, Budget 2024 Events and Latest News Updates on The Economic Times.)\\n\\nSubscribe to The Economic Times Prime and read the ET ePaper online.\\n\\n...more\\n\\nless\\n\\nEconomic Times WhatsApp channel)\\n\\nRead More News on\\n\\nRussian military\\n\\nIndian nationals\\n\\nPrime Minister Narendra Modi\\n\\nVladimir Putin\\n\\nForeign Secretary Vinay Kwatra\\n\\nRussian Army\\n\\nIndian Army\\n\\nhemal ashwinbhai mangua\\n\\n(Catch all the Business News, Breaking News, Budget 2024 Events and Latest News Updates on The Economic Times.)\\n\\nSubscribe to The Economic Times Prime and read the ET ePaper online.\\n\\n...more\\n\\nless\\n\\nPrime Exclusives\\n\\nInvestment Ideas\\n\\nStock Report Plus\\n\\nePaper\\n\\nWealth Edition\\n\\nWhy now is the time to take a long, hard look at your investment portfolio\\n\\nHow Sebi orders fared before SAT\\n\\nWhy leading doctors, scientists pin hope on green jackfruit to fight fatty liver and cancer\\n\\nValue guru Raamdeo seeks meaning of ‘eternity investing’ in the time of momentum\\n\\nWhat Boeing’s ‘guilty’ plea means for AI, Akasa, SpiceJet et al.\\n\\nHow to solve the unreliability problem messing up India’s jobs data\\n\\n1\\n\\n2\\n\\n3\\n\\nView all Stories\\n\\nVideos\\n\\nWe never wanted them: Russia on Indians in Russian Army\\n\\n\\'Russia doesn\\'t strike civilian targets in Ukraine\\'\\n\\nRussia-Ukraine war: \\'Killing of innocents is not acceptable\\'\\n\\nPM shares Austria\\'s Vande Mataram rendition\\n\\n‘Shall touch your feet, please finish on time’, Nitish raps official\\n\\nSindhi activist protests at UN for missing Hindu girl\\n\\nXiaomi India turns 10: Highlight of gadgets on display\\n\\nKathua terror attack: \\'Art 370 had nothing to do with militancy\\'\\n\\n\\'I\\'m sorry…\\': Rishi Sunak apologises in UK Parl for election losses\\n\\nBMC razes Juhu bar linked to Worli hit-and-run case\\n\\n1\\n\\n2\\n\\n3\\n\\nLatest from ET\\n\\nNo payin’, no gain: Airlines have changed rules of fare play\\n\\nFour PSU banks pay Rs 6,481 cr dividend to govt\\n\\nCan budget counter drop in FDI flows into India?\\n\\nTop Trending News\\n\\nIndia vs Zimbabwe T20 Live ScoreIndia vs Zimbabwe Pitch ReportStock Market CrashTNEA 2024 Rank List\\n\\nSensex TodayUnion Budget 2024 Live UpdatesTCS Q2 EarningsHNIs Private Credit Fund\\n\\nF&O Ban ListF&O Stocks to Buy TodayStocks in NewsRaymond Demerger\\n\\nF&O RadarGIFT NiftyBMW Hit and Run CaseICC Player of the Month\\n\\nAjay Kumar Growth FundBoeing 737 MaxMumbai RainsIND vs ZIM T20 Live Score\\n\\nCUET UG 2024 Answer KeysIndia vs Zimbabwe T20 Live StreamingIndia vs Zimbabwe Harare Pitch ReportJohn Cena Retirement\\n\\nToday NewsBudget 2024 DateNEET-UG 2024 CounselingVictoria Starmer\\n\\nSwati Maliwal Assault CaseNEET PG 2024 New Date\\n\\nPopular in India\\n\\nHow drugs were used to spread HIV among 800+ students in Tripura\\n\\nMaharashtra council passes resolution to rename seven local train stations\\n\\nBengaluru Police file FIR against Virat Kohli-owned pub on MG Road\\n\\nIndian companies participating in construction of nuclear power plant in Bangladesh: Russia\\n\\nPM Modi receives Russia\\'s highest civilian honour, Order of St Andrew the Apostle\\n\\nTrending Now\\n\\nMORE\\n\\nIndia vs Zimbabwe 3rd T20 Live Score\\n\\nIndia vs Zimbabwe Live Streaming\\n\\nIndia vs Zimbabwe Pitch Report\\n\\nRajasthan Budget 2024\\n\\nTNEA 2024 Rank List\\n\\nBudget 2024 Live Updates\\n\\nSensex Today\\n\\nUnnao Bus Accident\\n\\nFrance vs Spain\\n\\nICC Player of the Month\\n\\nDavid Warner Retirement\\n\\nEarth Inner Core\\n\\nMaharaja OTT Release\\n\\nBoeing Plea\\n\\nFrance Violence\\n\\nBudget 2024 Date\\n\\nJohn Cena Retirement\\n\\nHot on Web\\n\\nMORE\\n\\nIndia vs Zimbabwe 3rd T20 Live Score\\n\\nIndia vs Zimbabwe Live Telecast\\n\\nIndia vs Zimbabwe Pitch Report\\n\\nRajasthan Budget 2024\\n\\nTNEA 2024 Rank List\\n\\nSensex Crash\\n\\nBudget 2024 Live Updates\\n\\nSensex Today\\n\\nUnnao Bus Accident\\n\\nEuro 2024 France vs Spain\\n\\nBMW Hit and Run Case Update\\n\\nMirzapur 3 Ending Explained\\n\\nMaharaja OTT Release\\n\\nBengaluru Airport Bomb Threat\\n\\nBudget Date Announced\\n\\nJohn Cena Retirement\\n\\nToday News\\n\\nIn Case you missed it\\n\\nMORE\\n\\nIndia vs Zimbabwe 3rd T20 Live Score\\n\\nIndia vs Zimbabwe Live Streaming\\n\\nIndia vs Zimbabwe Pitch Report\\n\\nRajasthan Budget\\n\\nSensex Crash\\n\\nTNEA 2024 Rank List\\n\\nBudget 2024 Live Updates\\n\\nSensex Today\\n\\nUnnao Bus Accident\\n\\nFrance vs Spain\\n\\nBMW Hit and Run Case\\n\\nICC Player of the Month\\n\\nMumbai Rains\\n\\nMaharaja OTT Release Date\\n\\nFrance Violence\\n\\nSensex Today\\n\\nBudget 2024 Date\\n\\nTop Calculators\\n\\nMORE\\n\\nStandard Deviation Calculator\\n\\nIncome Tax Calculator\\n\\nAge Calculator\\n\\nTime Calculator\\n\\nBMI Calculator\\n\\nGPA Calculator\\n\\nStatistics Calculator\\n\\nFraction Calculator\\n\\nDiabetes Risk Calculator\\n\\nDate Calculator\\n\\nLog Calculator\\n\\nMORE\\n\\nTop Definitions\\n\\nStocks\\n\\nMarketing\\n\\nDepreciation\\n\\nGross Domestic Product\\n\\nBank Reconciliation\\n\\nMORE\\n\\nMost Searched IFSC Codes\\n\\nBank Of India\\n\\nCanara Bank\\n\\nAxis Bank\\n\\nIndia Post Payment Bank Post Office Savings Bank All India Single Ifsc Delhi Delhi IPOS0000DOP\\n\\nBank Of Baroda Uttar Pradesh\\n\\nMORE\\n\\nTop Story Listing\\n\\nAadhaar Card\\n\\nDow Jones\\n\\nTwitter Down\\n\\nSnapchat Update\\n\\nGmail Down\\n\\nMORE\\n\\nTop Searched Companies\\n\\nIRB Infra Dev. Share Price\\n\\nBPCL Share Price\\n\\nPC Jeweller Share Price\\n\\nRail Vikas Nigam Share Price\\n\\nAlok Industries Share Price\\n\\nJubilant Food Share Price\\n\\nBiocon Share Price\\n\\nJP Power Share Price\\n\\nTata Elxsi Share Price\\n\\nBHEL Share Price\\n\\nMORE\\n\\nTop Prime Articles\\n\\n5 Weekend Must Reads Featuring India Taking On The Us In Automobile Reliability\\n\\nIn 4 Stories Cognizants Tumultuous Journey\\n\\nAmazons Aim To Rule Air Cargo Just Got Wings In India Why This Is Only The Start Of A Long Haul\\n\\nSilent Epidemic The Health Catastrophe India Is Not Talking About And Why That Should Change\\n\\nThe Worlds Most Important Box In 3 Stories\\n\\nWhy A Minority Investor Wants To Stall The Long Pending Indiabulls Real Estate Embassy Group Merger\\n\\nDragons Prying Eye In The Sky Why Balloon Gate Should Be On Top Of Indias List Of Worries\\n\\nHow Banks Ceded The Upi Space And Control To Phonepe And Google Pay\\n\\nMacquaries Double Upgrade Has Sparked Some Interest In Paytm Stock Should You Buy\\n\\nFuture Locked In A Crypt Understanding The Crackdown On Crypto Amid A Hope For A Global Framework\\n\\nMORE\\n\\nTop Slideshow\\n\\nBudget 2023 Tweaked The New Income Tax Slabs\\n\\nPackaged Fruit Juice\\n\\nGujarat Ambuja Exports\\n\\nPackaged Fruit Juice\\n\\nBudget 2023 Tweaked The New Income Tax Slabs\\n\\nRajratan Global Wire\\n\\nGujarat Ambuja Exports\\n\\nPeaking Out\\n\\nPeaking Out\\n\\nRajratan Global Wire\\n\\nMORE\\n\\nTop Videos\\n\\nNow Reach Delhi To Jaipur Within 2 3 Hours Courtesy Delhi Mumbai Expressway\\n\\nWhy Boycott Germany Is Trending Here Is All You Need To Know\\n\\nFall In Adani Group Stocks Decoded\\n\\nKhalistani Separatist Amritpal Singh Gives Ultimatum To Punjab Govt Cancel Fir In An Hour Or Else\\n\\nRussia Ukraine War Ukrainian Soldiers Call For More Western Weapons\\n\\nNew Zealand Earthquake Of Magnitude 6 1 Hits Northwest Of Wellington Amidst Cyclone Gabrielle\\n\\nChatgpt Vs Google Bard How Do These Two Ai Chatbots Stack Up Against Each Other\\n\\nAir India Boeing Deal Us President Biden Speaks With Pm Modi After Landmark Agreement Of 220 Aircraft\\n\\nExplained Us New Move On H1b And L1 Visas\\n\\nSensex Surges Over 200 Points Nifty50 Above 10350\\n\\nMORE\\n\\nPrivate Companies\\n\\nBl Financial Services Private Limited\\n\\nShreyash Retail Private Limited\\n\\nGlobal India Services Private Limited\\n\\nStatestreet Hcl Services India Private Limited\\n\\nRenatus Wellness Private Limited\\n\\nLatest News\\n\\nSurging: Russia-India trade USD 57 bn in 2023; goes up 23 pc in Jan-April 2024\\n\\nPower Grid Corp board approves plan to raise borrowing limit to Rs 15k cr for FY25\\n\\nREC raises 31.96 billion Japanese yen through 5-year green loan\\n\\nWill Spanish captain be able to play in Euro 2024 final after freak injury? Here\\'s what we know so far\\n\\nProposed IBC amendment on guarantees to aid NPA recovery: India Ratings\\n\\nSpongeBob SquarePants\\' 25th Anniversary: Everything we know so far\\n\\nDespicable Me 5: Director Chris Renaud reveals whether the next chapter Is happening\\n\\nCan Joe Biden serve another term? News anchor who interviewed him says “I don’t think so”\\n\\nOver 17 opposition MPs write to Railway Minister highlighting work stress among loco pilots\\n\\nDelhi: Over one lakh children failed in class IX, 50000 in Xl in Delhi govt schools\\n\\nWho was William Stampfl? How his body was found on Mount Huascaran 20 years after he went missing in avalanche?\\n\\nF-16s\\' arrival not a silver bullet for Ukraine in war with Russia\\n\\nRBI liberalises account opening rules at IFSCs\\n\\nPromoters to sell 7.85% in Glenmark Life through OFS\\n\\nWhat happened on Royal Caribbean Cruise after a passenger talked about Titanic? Is it prohibited to mention an ill-fated ship?\\n\\nFollow us on:\\n\\nDownload ET App:\\n\\nsubscribe to our newsletter\\n\\nCopyright © 2024 Bennett, Coleman & Co. Ltd. All rights reserved. For reprint rights: \\n\\nTimes Syndication Service\\n\\nFind this comment offensive?\\n\\nChoose your reason below and click on the Report button. This will alert our moderators to take action\\n\\nName\\n\\nReason for reporting:\\n\\nFoul language\\n\\nSlanderous\\n\\nInciting hatred against a certain community\\n\\nOthers\\n\\nYour Reason has been Reported to the admin.\\n\\nTo post this comment you must\\n\\nLog In/Connect with:\\n\\nThe Economic Times\\n\\nor\\n\\nFill in your details:\\n\\nWill be displayed\\n\\nWill not be displayed\\n\\nWill be displayed\\n\\nShare this Comment:\\n\\nStories you might be interested in\\n\\nSubscribe to our\\n\\nET Investment Opportunities']\n",
            "Question: We are on the same side with the\n",
            "Answer: the Indian government\n"
          ]
        }
      ]
    },
    {
      "cell_type": "code",
      "source": [
        "# \"https://www.deccanherald.com/india/no-disagreements-between-modi-putin-at-meet-kremlin-3100152\",\n",
        "# \"https://www.thehindu.com/news/international/indias-relationship-with-russia-gives-it-ability-to-urge-russian-president-putin-to-end-war-in-ukraine-white-house/article68387851.ece\",\n",
        "# \"https://economictimes.indiatimes.com/news/india/we-never-wanted-them-russia-on-indians-in-russian-army/articleshow/111638059.cms?from=mdr\""
      ],
      "metadata": {
        "id": "j8xSko7JaxWP"
      },
      "id": "j8xSko7JaxWP",
      "execution_count": null,
      "outputs": []
    }
  ],
  "metadata": {
    "kernelspec": {
      "display_name": "Python 3 (ipykernel)",
      "language": "python",
      "name": "python3"
    },
    "language_info": {
      "codemirror_mode": {
        "name": "ipython",
        "version": 3
      },
      "file_extension": ".py",
      "mimetype": "text/x-python",
      "name": "python",
      "nbconvert_exporter": "python",
      "pygments_lexer": "ipython3",
      "version": "3.10.11"
    },
    "colab": {
      "provenance": []
    }
  },
  "nbformat": 4,
  "nbformat_minor": 5
}